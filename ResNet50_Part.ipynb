{
 "cells": [
  {
   "cell_type": "markdown",
   "metadata": {},
   "source": [
    "# 猫狗大战 毕业项目——Fine-tuning ResNet50\n"
   ]
  },
  {
   "cell_type": "markdown",
   "metadata": {},
   "source": [
    "## 开始\n",
    "导入一切并我们设置所使用的GPU。\n",
    "- dev0: GTX1070Ti"
   ]
  },
  {
   "cell_type": "code",
   "execution_count": 1,
   "metadata": {},
   "outputs": [
    {
     "name": "stderr",
     "output_type": "stream",
     "text": [
      "Using TensorFlow backend.\n"
     ]
    }
   ],
   "source": [
    "## Denpendencies\n",
    "import os\n",
    "import csv\n",
    "import cv2\n",
    "import h5py\n",
    "import shutil\n",
    "import random\n",
    "import numpy as np\n",
    "import pandas as pd\n",
    "import matplotlib\n",
    "import matplotlib.pyplot as plt\n",
    "from tqdm import tqdm  \n",
    "from time import time\n",
    "from PIL import Image\n",
    "from functions_collection import *\n",
    "\n",
    "## Keras\n",
    "from keras.applications.xception import decode_predictions\n",
    "from keras.applications.xception import preprocess_input\n",
    "from keras.models import *\n",
    "from keras.layers import *\n",
    "from keras.applications import *\n",
    "from keras.preprocessing import image\n",
    "from keras.preprocessing.image import *\n",
    "from keras.callbacks import *\n",
    "from keras.optimizers import *\n",
    "from keras.utils import *\n",
    "from keras import backend as K\n",
    "\n",
    "## GPU choice\n",
    "os.environ[\"CUDA_VISIBLE_DEVICES\"] = \"0\"\n",
    "\n",
    "## Specific setting for CUDNN_STATUS_INTERNAL_ERROR\n",
    "config = tf.ConfigProto(gpu_options=tf.GPUOptions(allow_growth=True))\n",
    "sess = tf.Session(config=config)"
   ]
  },
  {
   "cell_type": "markdown",
   "metadata": {},
   "source": [
    "## 基准模型\n",
    "作为迁移学习的基础，这里我们使用ResNet50为基准模型：\n",
    "- [ResNet](https://arxiv.org/abs/1512.03385)\n",
    "\n",
    "在导出预训练模型特征时，我们所使用的方法参考了[这里](https://github.com/ypwhs/dogs_vs_cats)。\n",
    "\n",
    "我们首先冻结所有Resnet的权重参数，只训练全链接层。我们在融合模型中已经导出了所有训练数据和测试数据在Resnet上的特征，基于这些特征，我们训练猫狗问题的网络。"
   ]
  },
  {
   "cell_type": "code",
   "execution_count": 2,
   "metadata": {},
   "outputs": [],
   "source": [
    "train_filenames = os.listdir('train')\n",
    "train_cat = filter(lambda x:x[:3] == 'cat', train_filenames)\n",
    "train_dog = filter(lambda x:x[:3] == 'dog', train_filenames)\n",
    "\n",
    "def rmrf_mkdir(dirname):\n",
    "    if os.path.exists(dirname):\n",
    "        shutil.rmtree(dirname)\n",
    "    os.mkdir(dirname)\n",
    "\n",
    "rmrf_mkdir('trainAlter')\n",
    "os.mkdir('trainAlter/cat')\n",
    "os.mkdir('trainAlter/dog')\n",
    "\n",
    "rmrf_mkdir('testAlter')\n",
    "os.symlink('../test/', 'testAlter/test')\n",
    "\n",
    "for filename in train_cat:\n",
    "    os.symlink('../../train/'+filename, 'trainAlter/cat/'+filename)\n",
    "\n",
    "for filename in train_dog:\n",
    "    os.symlink('../../train/'+filename, 'trainAlter/dog/'+filename)"
   ]
  },
  {
   "cell_type": "code",
   "execution_count": 3,
   "metadata": {},
   "outputs": [
    {
     "name": "stderr",
     "output_type": "stream",
     "text": [
      "100%|██████████| 25000/25000 [00:00<00:00, 56543.35it/s]\n",
      "100%|██████████| 12500/12500 [00:00<00:00, 68409.36it/s]\n"
     ]
    }
   ],
   "source": [
    "#为数据连理symbol-link\n",
    "train_data_dir, valid_data_dir, test_data_dir = symbol_link()"
   ]
  },
  {
   "cell_type": "code",
   "execution_count": 4,
   "metadata": {},
   "outputs": [],
   "source": [
    "#导入训练数据和测试数据\n",
    "X_train, Y_train, X_test = export_data(\"data_resnet50.h5\")"
   ]
  },
  {
   "cell_type": "code",
   "execution_count": 5,
   "metadata": {
    "scrolled": true
   },
   "outputs": [
    {
     "name": "stdout",
     "output_type": "stream",
     "text": [
      "WARNING:tensorflow:From /home/ninomoriaty/anaconda3/lib/python3.7/site-packages/keras/backend/tensorflow_backend.py:63: The name tf.get_default_graph is deprecated. Please use tf.compat.v1.get_default_graph instead.\n",
      "\n",
      "WARNING:tensorflow:From /home/ninomoriaty/anaconda3/lib/python3.7/site-packages/keras/backend/tensorflow_backend.py:492: The name tf.placeholder is deprecated. Please use tf.compat.v1.placeholder instead.\n",
      "\n",
      "WARNING:tensorflow:From /home/ninomoriaty/anaconda3/lib/python3.7/site-packages/keras/backend/tensorflow_backend.py:3013: calling dropout (from tensorflow.python.ops.nn_ops) with keep_prob is deprecated and will be removed in a future version.\n",
      "Instructions for updating:\n",
      "Please use `rate` instead of `keep_prob`. Rate should be set to `rate = 1 - keep_prob`.\n",
      "WARNING:tensorflow:From /home/ninomoriaty/anaconda3/lib/python3.7/site-packages/keras/backend/tensorflow_backend.py:3630: The name tf.random_uniform is deprecated. Please use tf.random.uniform instead.\n",
      "\n",
      "WARNING:tensorflow:From /home/ninomoriaty/anaconda3/lib/python3.7/site-packages/keras/optimizers.py:711: The name tf.train.Optimizer is deprecated. Please use tf.compat.v1.train.Optimizer instead.\n",
      "\n",
      "WARNING:tensorflow:From /home/ninomoriaty/anaconda3/lib/python3.7/site-packages/keras/backend/tensorflow_backend.py:2944: The name tf.log is deprecated. Please use tf.math.log instead.\n",
      "\n",
      "WARNING:tensorflow:From /home/ninomoriaty/anaconda3/lib/python3.7/site-packages/tensorflow/python/ops/nn_impl.py:180: add_dispatch_support.<locals>.wrapper (from tensorflow.python.ops.array_ops) is deprecated and will be removed in a future version.\n",
      "Instructions for updating:\n",
      "Use tf.where in 2.0, which has the same broadcast rule as np.where\n"
     ]
    }
   ],
   "source": [
    "#构造模型并显示所有网络层的名称\n",
    "input_tensor = Input(X_train.shape[1:])\n",
    "x = Dropout(0.5)(input_tensor)\n",
    "x = Dense(1, activation='sigmoid')(x)\n",
    "model = Model(input_tensor, x)\n",
    "\n",
    "model.compile(optimizer='adadelta',\n",
    "              loss='binary_crossentropy',\n",
    "              metrics=['accuracy'])\n"
   ]
  },
  {
   "cell_type": "code",
   "execution_count": 6,
   "metadata": {
    "scrolled": true
   },
   "outputs": [
    {
     "name": "stdout",
     "output_type": "stream",
     "text": [
      "WARNING:tensorflow:From /home/ninomoriaty/anaconda3/lib/python3.7/site-packages/keras/backend/tensorflow_backend.py:675: calling Constant.__init__ (from tensorflow.python.ops.init_ops) with dtype is deprecated and will be removed in a future version.\n",
      "Instructions for updating:\n",
      "Call initializer instance with the dtype argument instead of passing it to the constructor\n",
      "WARNING:tensorflow:From /home/ninomoriaty/anaconda3/lib/python3.7/site-packages/keras/backend/tensorflow_backend.py:953: The name tf.assign_add is deprecated. Please use tf.compat.v1.assign_add instead.\n",
      "\n",
      "Train on 20000 samples, validate on 5000 samples\n",
      "Epoch 1/20\n",
      "19200/20000 [===========================>..] - ETA: 0s - loss: 0.3039 - acc: 0.8673Epoch 00001: val_loss improved from inf to 0.11112, saving model to resnet50-tune0-best_weight.h5\n",
      "20000/20000 [==============================] - 1s 53us/step - loss: 0.2975 - acc: 0.8705 - val_loss: 0.1111 - val_acc: 0.9648\n",
      "Epoch 2/20\n",
      "19712/20000 [============================>.] - ETA: 0s - loss: 0.1285 - acc: 0.9511Epoch 00002: val_loss improved from 0.11112 to 0.07932, saving model to resnet50-tune0-best_weight.h5\n",
      "20000/20000 [==============================] - 0s 18us/step - loss: 0.1279 - acc: 0.9514 - val_loss: 0.0793 - val_acc: 0.9718\n",
      "Epoch 3/20\n",
      "19968/20000 [============================>.] - ETA: 0s - loss: 0.1000 - acc: 0.9607Epoch 00003: val_loss improved from 0.07932 to 0.06912, saving model to resnet50-tune0-best_weight.h5\n",
      "20000/20000 [==============================] - 0s 18us/step - loss: 0.1001 - acc: 0.9607 - val_loss: 0.0691 - val_acc: 0.9738\n",
      "Epoch 4/20\n",
      "16768/20000 [========================>.....] - ETA: 0s - loss: 0.0857 - acc: 0.9662Epoch 00004: val_loss improved from 0.06912 to 0.06414, saving model to resnet50-tune0-best_weight.h5\n",
      "20000/20000 [==============================] - 0s 18us/step - loss: 0.0853 - acc: 0.9670 - val_loss: 0.0641 - val_acc: 0.9772\n",
      "Epoch 5/20\n",
      "17024/20000 [========================>.....] - ETA: 0s - loss: 0.0843 - acc: 0.9689Epoch 00005: val_loss improved from 0.06414 to 0.06085, saving model to resnet50-tune0-best_weight.h5\n",
      "20000/20000 [==============================] - 0s 18us/step - loss: 0.0838 - acc: 0.9692 - val_loss: 0.0609 - val_acc: 0.9780\n",
      "Epoch 6/20\n",
      "17280/20000 [========================>.....] - ETA: 0s - loss: 0.0776 - acc: 0.9699Epoch 00006: val_loss improved from 0.06085 to 0.05906, saving model to resnet50-tune0-best_weight.h5\n",
      "20000/20000 [==============================] - 0s 17us/step - loss: 0.0772 - acc: 0.9705 - val_loss: 0.0591 - val_acc: 0.9782\n",
      "Epoch 7/20\n",
      "19712/20000 [============================>.] - ETA: 0s - loss: 0.0775 - acc: 0.9698Epoch 00007: val_loss improved from 0.05906 to 0.05802, saving model to resnet50-tune0-best_weight.h5\n",
      "20000/20000 [==============================] - 0s 18us/step - loss: 0.0771 - acc: 0.9698 - val_loss: 0.0580 - val_acc: 0.9788\n",
      "Epoch 8/20\n",
      "18176/20000 [==========================>...] - ETA: 0s - loss: 0.0747 - acc: 0.9710Epoch 00008: val_loss improved from 0.05802 to 0.05694, saving model to resnet50-tune0-best_weight.h5\n",
      "20000/20000 [==============================] - 0s 20us/step - loss: 0.0743 - acc: 0.9712 - val_loss: 0.0569 - val_acc: 0.9790\n",
      "Epoch 9/20\n",
      "17408/20000 [=========================>....] - ETA: 0s - loss: 0.0712 - acc: 0.9730Epoch 00009: val_loss improved from 0.05694 to 0.05654, saving model to resnet50-tune0-best_weight.h5\n",
      "20000/20000 [==============================] - 0s 18us/step - loss: 0.0723 - acc: 0.9724 - val_loss: 0.0565 - val_acc: 0.9786\n",
      "Epoch 10/20\n",
      "19456/20000 [============================>.] - ETA: 0s - loss: 0.0702 - acc: 0.9721Epoch 00010: val_loss improved from 0.05654 to 0.05553, saving model to resnet50-tune0-best_weight.h5\n",
      "20000/20000 [==============================] - 0s 18us/step - loss: 0.0703 - acc: 0.9722 - val_loss: 0.0555 - val_acc: 0.9786\n",
      "Epoch 11/20\n",
      "18432/20000 [==========================>...] - ETA: 0s - loss: 0.0688 - acc: 0.9740Epoch 00011: val_loss improved from 0.05553 to 0.05521, saving model to resnet50-tune0-best_weight.h5\n",
      "20000/20000 [==============================] - 0s 19us/step - loss: 0.0683 - acc: 0.9741 - val_loss: 0.0552 - val_acc: 0.9790\n",
      "Epoch 12/20\n",
      "19072/20000 [===========================>..] - ETA: 0s - loss: 0.0686 - acc: 0.9728Epoch 00012: val_loss improved from 0.05521 to 0.05504, saving model to resnet50-tune0-best_weight.h5\n",
      "20000/20000 [==============================] - 0s 19us/step - loss: 0.0678 - acc: 0.9732 - val_loss: 0.0550 - val_acc: 0.9784\n",
      "Epoch 13/20\n",
      "17152/20000 [========================>.....] - ETA: 0s - loss: 0.0646 - acc: 0.9746Epoch 00013: val_loss improved from 0.05504 to 0.05468, saving model to resnet50-tune0-best_weight.h5\n",
      "20000/20000 [==============================] - 0s 17us/step - loss: 0.0669 - acc: 0.9741 - val_loss: 0.0547 - val_acc: 0.9798\n",
      "Epoch 14/20\n",
      "17536/20000 [=========================>....] - ETA: 0s - loss: 0.0703 - acc: 0.9726Epoch 00014: val_loss improved from 0.05468 to 0.05425, saving model to resnet50-tune0-best_weight.h5\n",
      "20000/20000 [==============================] - 0s 17us/step - loss: 0.0693 - acc: 0.9727 - val_loss: 0.0542 - val_acc: 0.9784\n",
      "Epoch 15/20\n",
      "17152/20000 [========================>.....] - ETA: 0s - loss: 0.0648 - acc: 0.9744Epoch 00015: val_loss improved from 0.05425 to 0.05368, saving model to resnet50-tune0-best_weight.h5\n",
      "20000/20000 [==============================] - 0s 17us/step - loss: 0.0666 - acc: 0.9742 - val_loss: 0.0537 - val_acc: 0.9788\n",
      "Epoch 16/20\n",
      "18688/20000 [===========================>..] - ETA: 0s - loss: 0.0667 - acc: 0.9731Epoch 00016: val_loss did not improve\n",
      "20000/20000 [==============================] - 0s 16us/step - loss: 0.0659 - acc: 0.9733 - val_loss: 0.0538 - val_acc: 0.9800\n",
      "Epoch 17/20\n",
      "17920/20000 [=========================>....] - ETA: 0s - loss: 0.0682 - acc: 0.9745Epoch 00017: val_loss did not improve\n",
      "20000/20000 [==============================] - 0s 17us/step - loss: 0.0676 - acc: 0.9743 - val_loss: 0.0548 - val_acc: 0.9786\n",
      "Epoch 18/20\n",
      "19840/20000 [============================>.] - ETA: 0s - loss: 0.0668 - acc: 0.9730Epoch 00018: val_loss did not improve\n",
      "20000/20000 [==============================] - 0s 18us/step - loss: 0.0667 - acc: 0.9730 - val_loss: 0.0554 - val_acc: 0.9782\n",
      "Epoch 19/20\n",
      "19200/20000 [===========================>..] - ETA: 0s - loss: 0.0635 - acc: 0.9750Epoch 00019: val_loss improved from 0.05368 to 0.05338, saving model to resnet50-tune0-best_weight.h5\n",
      "20000/20000 [==============================] - 0s 19us/step - loss: 0.0641 - acc: 0.9748 - val_loss: 0.0534 - val_acc: 0.9794\n",
      "Epoch 20/20\n",
      "17536/20000 [=========================>....] - ETA: 0s - loss: 0.0648 - acc: 0.9743Epoch 00020: val_loss did not improve\n",
      "20000/20000 [==============================] - 0s 18us/step - loss: 0.0643 - acc: 0.9750 - val_loss: 0.0538 - val_acc: 0.9800\n"
     ]
    },
    {
     "data": {
      "text/plain": [
       "<keras.callbacks.History at 0x7f8f6855c7b8>"
      ]
     },
     "execution_count": 6,
     "metadata": {},
     "output_type": "execute_result"
    }
   ],
   "source": [
    "#训练模型并导出权重参数\n",
    "filepath=\"resnet50.h5\"\n",
    "checkpoint = ModelCheckpoint(filepath, monitor='val_loss', verbose=1, save_best_only=True, mode='min',save_weights_only=True)\n",
    "callbacks_list = [checkpoint]\n",
    "model.fit(X_train, Y_train, batch_size=128, epochs=20, validation_split=0.2, shuffle=True,\n",
    "         callbacks=callbacks_list)"
   ]
  },
  {
   "cell_type": "code",
   "execution_count": 7,
   "metadata": {},
   "outputs": [
    {
     "name": "stdout",
     "output_type": "stream",
     "text": [
      "12500/12500 [==============================] - 0s 18us/step\n",
      "Found 12500 images belonging to 1 classes.\n"
     ]
    }
   ],
   "source": [
    "#在测试集上进行预测并导出预测值\n",
    "predict_on_model(test_data_dir, X_test, model, \"pred-resnet50.csv\")"
   ]
  },
  {
   "cell_type": "markdown",
   "metadata": {},
   "source": [
    "这一模型在Kaggle上的得分为0.07529，还不错。下一步我们将开始Fine-tuning基于Resnet50的猫狗分类模型。"
   ]
  }
 ],
 "metadata": {
  "anaconda-cloud": {},
  "kernelspec": {
   "display_name": "Python 3",
   "language": "python",
   "name": "python3"
  },
  "language_info": {
   "codemirror_mode": {
    "name": "ipython",
    "version": 3
   },
   "file_extension": ".py",
   "mimetype": "text/x-python",
   "name": "python",
   "nbconvert_exporter": "python",
   "pygments_lexer": "ipython3",
   "version": "3.7.3"
  }
 },
 "nbformat": 4,
 "nbformat_minor": 2
}
