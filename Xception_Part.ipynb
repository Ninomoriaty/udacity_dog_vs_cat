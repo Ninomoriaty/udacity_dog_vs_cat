{
 "cells": [
  {
   "cell_type": "markdown",
   "metadata": {},
   "source": [
    "# Udacity Capstone Projcet - Dogs vs Cats"
   ]
  },
  {
   "cell_type": "markdown",
   "metadata": {},
   "source": [
    "## 环境配置\n",
    "\n",
    "在运行程序之前，需要确保本地conda环境与与environment.yml中提供的环境内容是相同或者可以替代的。\n",
    "\n",
    "同时也需要注意硬件的使用以及对应驱动的安装。本次运行使用的平台以及对应驱动是CUDA 10.2，Nvidia-SMI: 430.26。\n",
    "这一步需要根据计算机系统以及硬件进行相应的安装，因此在这里不作过多的叙述。"
   ]
  },
  {
   "cell_type": "code",
   "execution_count": 17,
   "metadata": {},
   "outputs": [],
   "source": [
    "## Denpendencies\n",
    "import os\n",
    "import csv\n",
    "import cv2\n",
    "import h5py\n",
    "import shutil\n",
    "import random\n",
    "import numpy as np\n",
    "import pandas as pd\n",
    "import matplotlib\n",
    "import matplotlib.pyplot as plt\n",
    "from tqdm import tqdm  \n",
    "from time import time\n",
    "from PIL import Image\n",
    "from functions_collection import *\n",
    "\n",
    "## Keras\n",
    "from keras.applications.xception import decode_predictions\n",
    "from keras.applications.xception import preprocess_input\n",
    "from keras.models import *\n",
    "from keras.layers import *\n",
    "from keras.applications import *\n",
    "from keras.preprocessing import image\n",
    "from keras.preprocessing.image import *\n",
    "from keras.callbacks import *\n",
    "from keras.optimizers import *\n",
    "from keras.utils import *\n",
    "from keras import backend as K\n",
    "\n",
    "## GPU choice\n",
    "os.environ[\"CUDA_VISIBLE_DEVICES\"] = \"0\"\n",
    "\n",
    "## Specific setting for CUDNN_STATUS_INTERNAL_ERROR\n",
    "#config = tf.ConfigProto(gpu_options=tf.GPUOptions(allow_growth=True))\n",
    "config = tf.ConfigProto(gpu_options=tf.GPUOptions(allow_growth=0.95))\n",
    "sess = tf.Session(config=config)"
   ]
  },
  {
   "cell_type": "markdown",
   "metadata": {},
   "source": [
    "## 数据探索以及可视化\n",
    "\n",
    "首先，我们需要了解Kaggle提供的训练集和测试集的数据量。我们可以发现在训练集的图像中有对应的cat和dog的标记，根据这个文件命名的规则，我们可以通过统计具有相应命名规律的图像数目。"
   ]
  },
  {
   "cell_type": "code",
   "execution_count": 2,
   "metadata": {},
   "outputs": [
    {
     "name": "stdout",
     "output_type": "stream",
     "text": [
      "cat figures: 12500\n",
      "dog figures: 12500\n",
      "test figures: 12500\n"
     ]
    }
   ],
   "source": [
    "!echo \"cat figures: $(find train/ -name 'cat*jpg' | wc -l)\"\n",
    "!echo \"dog figures: $(find train/ -name 'dog*jpg' | wc -l)\"\n",
    "!echo \"test figures: $(find test/ -name '*.jpg' | wc -l)\""
   ]
  },
  {
   "cell_type": "markdown",
   "metadata": {},
   "source": [
    "我们可以发现，Kaggle的训练集数据中有12500张猫的照片，12500张狗的照片，并在测试集中提供了没有标记的12500张测试图片。\n",
    "\n",
    "同时，由于在训练的过程中我们需要统一图像的尺寸，我们在进行训练之前，可以对训练集中的图像尺寸特征先进行一定的探索。"
   ]
  },
  {
   "cell_type": "code",
   "execution_count": 3,
   "metadata": {},
   "outputs": [],
   "source": [
    "## read images\n",
    "train_filenames = os.listdir('train')\n",
    "train_cat = [img for img in filter(lambda x:x[:3] == 'cat', train_filenames)]\n",
    "train_dog = [img for img in filter(lambda x:x[:3] == 'dog', train_filenames)]\n",
    "\n",
    "\n",
    "train_all = np.concatenate((train_cat,train_dog))\n",
    "\n",
    "type(train_all)\n",
    "\n",
    "\n",
    "## genreate the shapes data from train_all\n",
    "shapes = get_shape(train_all)"
   ]
  },
  {
   "cell_type": "code",
   "execution_count": 4,
   "metadata": {},
   "outputs": [
    {
     "data": {
      "image/png": "[encoded data removed]",
      "text/plain": [
       "<Figure size 432x288 with 1 Axes>"
      ]
     },
     "metadata": {
      "needs_background": "light"
     },
     "output_type": "display_data"
    }
   ],
   "source": [
    "# Scatter\n",
    "height = [i[0] for i in shapes]\n",
    "width = [i[1] for i in shapes]\n",
    "\n",
    "plt.scatter(height, width)\n",
    "plt.xlabel('Height')\n",
    "plt.ylabel('Width')\n",
    "plt.show()"
   ]
  },
  {
   "cell_type": "markdown",
   "metadata": {},
   "source": [
    "从上图我们可以发现,Kaggle提供的图像大小并非完全相同的，因此我们在后续对图像的尺寸进行规范。"
   ]
  },
  {
   "cell_type": "markdown",
   "metadata": {},
   "source": [
    "## 数据预处理"
   ]
  },
  {
   "cell_type": "markdown",
   "metadata": {},
   "source": [
    "通过上述的数据探索，我们大致了解了数据量以及图像的尺寸。首先我们需要将训练集中猫和狗的图像分别放入对应类型的文件夹中，而这个过程主要是通过创建图像的符号链接(symbol link)实现的。"
   ]
  },
  {
   "cell_type": "code",
   "execution_count": 2,
   "metadata": {},
   "outputs": [],
   "source": [
    "train_filenames = os.listdir('train')\n",
    "train_cat = filter(lambda x:x[:3] == 'cat', train_filenames)\n",
    "train_dog = filter(lambda x:x[:3] == 'dog', train_filenames)\n",
    "\n",
    "set_mkdir('trainAlter')\n",
    "os.mkdir('trainAlter/cat')\n",
    "os.mkdir('trainAlter/dog')\n",
    "\n",
    "set_mkdir('testAlter')\n",
    "os.symlink('../test/', 'testAlter/test')\n",
    "\n",
    "for filename in train_cat:\n",
    "    os.symlink('../../train/'+filename, 'trainAlter/cat/'+filename)\n",
    "\n",
    "for filename in train_dog:\n",
    "    os.symlink('../../train/'+filename, 'trainAlter/dog/'+filename)"
   ]
  },
  {
   "cell_type": "code",
   "execution_count": 3,
   "metadata": {},
   "outputs": [
    {
     "name": "stderr",
     "output_type": "stream",
     "text": [
      "100%|██████████| 25000/25000 [00:00<00:00, 56821.13it/s]\n",
      "100%|██████████| 12500/12500 [00:00<00:00, 66873.13it/s]\n"
     ]
    }
   ],
   "source": [
    "## Generate symbol-link\n",
    "train_data_dir, valid_data_dir, test_data_dir = symbol_link()"
   ]
  },
  {
   "cell_type": "code",
   "execution_count": 4,
   "metadata": {},
   "outputs": [
    {
     "name": "stdout",
     "output_type": "stream",
     "text": [
      "WARNING:tensorflow:From /home/ninomoriaty/anaconda3/lib/python3.7/site-packages/keras/backend/tensorflow_backend.py:63: The name tf.get_default_graph is deprecated. Please use tf.compat.v1.get_default_graph instead.\n",
      "\n",
      "WARNING:tensorflow:From /home/ninomoriaty/anaconda3/lib/python3.7/site-packages/keras/backend/tensorflow_backend.py:492: The name tf.placeholder is deprecated. Please use tf.compat.v1.placeholder instead.\n",
      "\n",
      "WARNING:tensorflow:From /home/ninomoriaty/anaconda3/lib/python3.7/site-packages/keras/backend/tensorflow_backend.py:3630: The name tf.random_uniform is deprecated. Please use tf.random.uniform instead.\n",
      "\n",
      "WARNING:tensorflow:From /home/ninomoriaty/anaconda3/lib/python3.7/site-packages/keras/backend/tensorflow_backend.py:3458: The name tf.nn.max_pool is deprecated. Please use tf.nn.max_pool2d instead.\n",
      "\n",
      "WARNING:tensorflow:From /home/ninomoriaty/anaconda3/lib/python3.7/site-packages/keras/backend/tensorflow_backend.py:158: The name tf.get_default_session is deprecated. Please use tf.compat.v1.get_default_session instead.\n",
      "\n",
      "WARNING:tensorflow:From /home/ninomoriaty/anaconda3/lib/python3.7/site-packages/keras/backend/tensorflow_backend.py:163: The name tf.ConfigProto is deprecated. Please use tf.compat.v1.ConfigProto instead.\n",
      "\n",
      "Found 25000 images belonging to 2 classes.\n",
      "Found 12500 images belonging to 1 classes.\n",
      "1563/1563 [==============================] - 282s 180ms/step\n",
      "782/782 [==============================] - 139s 178ms/step\n"
     ]
    }
   ],
   "source": [
    "write_data(Xception, (299, 299), batch_size=16, dir_train=\"trainAlter\", dir_test=\"testAlter\", lambda_func=xception.preprocess_input)"
   ]
  },
  {
   "cell_type": "code",
   "execution_count": 4,
   "metadata": {},
   "outputs": [],
   "source": [
    "X_train, Y_train, X_test = export_data(\"data_xception.h5\")"
   ]
  },
  {
   "cell_type": "markdown",
   "metadata": {},
   "source": [
    "经过上述处理之后，目前的文件目录如文件tree.txt所示。通过生成symbol link，我们可以通过data_xception.h5对训练集中的两种图像分别生成不同目录下的索引，同时统一索引了测试集中的图像。在生成data_xception.h5的同时，我们通过ImageDataGenerator对图像数据进行了数据增强，从而使得使用这些数据进行训练的模型可以具有更好的适应性，防止模型过拟合并提高泛化能力.。"
   ]
  },
  {
   "cell_type": "markdown",
   "metadata": {},
   "source": [
    "## 迁移学习模型构建\n",
    "\n",
    "基于在报告中提到的理由，我们将使用Xception作为我们迁移学习的基础。关于Xception的资料可以参考report中提供的参考文献，而在Keras和Tensorlfow中也为使用预先训练的Xception模型也提供了较好的支持。\n",
    "\n",
    "我们首先需要对Xception在图像分类上的基本能力进行检测，尝试将对Xception模型进行初步的测试以及Kaggle的检验。"
   ]
  },
  {
   "cell_type": "code",
   "execution_count": 6,
   "metadata": {
    "scrolled": true
   },
   "outputs": [
    {
     "name": "stdout",
     "output_type": "stream",
     "text": [
      "WARNING:tensorflow:From /home/ninomoriaty/anaconda3/lib/python3.7/site-packages/keras/backend/tensorflow_backend.py:3013: calling dropout (from tensorflow.python.ops.nn_ops) with keep_prob is deprecated and will be removed in a future version.\n",
      "Instructions for updating:\n",
      "Please use `rate` instead of `keep_prob`. Rate should be set to `rate = 1 - keep_prob`.\n",
      "WARNING:tensorflow:From /home/ninomoriaty/anaconda3/lib/python3.7/site-packages/keras/optimizers.py:711: The name tf.train.Optimizer is deprecated. Please use tf.compat.v1.train.Optimizer instead.\n",
      "\n",
      "WARNING:tensorflow:From /home/ninomoriaty/anaconda3/lib/python3.7/site-packages/tensorflow/python/ops/nn_impl.py:180: add_dispatch_support.<locals>.wrapper (from tensorflow.python.ops.array_ops) is deprecated and will be removed in a future version.\n",
      "Instructions for updating:\n",
      "Use tf.where in 2.0, which has the same broadcast rule as np.where\n"
     ]
    }
   ],
   "source": [
    "## Construct the model\n",
    "input_tensor = Input(X_train.shape[1:])\n",
    "x = Dropout(0.5)(input_tensor)\n",
    "x = Dense(1, activation='sigmoid')(x)\n",
    "model = Model(input_tensor, x)\n",
    "\n",
    "model.compile(optimizer='adadelta',\n",
    "              loss='binary_crossentropy',\n",
    "              metrics=['accuracy'])\n"
   ]
  },
  {
   "cell_type": "code",
   "execution_count": 7,
   "metadata": {
    "scrolled": true
   },
   "outputs": [
    {
     "name": "stdout",
     "output_type": "stream",
     "text": [
      "WARNING:tensorflow:From /home/ninomoriaty/anaconda3/lib/python3.7/site-packages/keras/backend/tensorflow_backend.py:675: calling Constant.__init__ (from tensorflow.python.ops.init_ops) with dtype is deprecated and will be removed in a future version.\n",
      "Instructions for updating:\n",
      "Call initializer instance with the dtype argument instead of passing it to the constructor\n",
      "Train on 20000 samples, validate on 5000 samples\n",
      "Epoch 1/20\n",
      "17920/20000 [=========================>....] - ETA: 0s - loss: 0.3216 - acc: 0.9259Epoch 00001: val_loss improved from inf to 0.12628, saving model to xception-tune0-best_weight.h5\n",
      "20000/20000 [==============================] - 1s 66us/step - loss: 0.3030 - acc: 0.9323 - val_loss: 0.1263 - val_acc: 0.9912\n",
      "Epoch 2/20\n",
      "18560/20000 [==========================>...] - ETA: 0s - loss: 0.0973 - acc: 0.9875Epoch 00002: val_loss improved from 0.12628 to 0.05798, saving model to xception-tune0-best_weight.h5\n",
      "20000/20000 [==============================] - 0s 20us/step - loss: 0.0957 - acc: 0.9873 - val_loss: 0.0580 - val_acc: 0.9944\n",
      "Epoch 3/20\n",
      "17024/20000 [========================>.....] - ETA: 0s - loss: 0.0581 - acc: 0.9892Epoch 00003: val_loss improved from 0.05798 to 0.03718, saving model to xception-tune0-best_weight.h5\n",
      "20000/20000 [==============================] - 0s 20us/step - loss: 0.0558 - acc: 0.9893 - val_loss: 0.0372 - val_acc: 0.9946\n",
      "Epoch 4/20\n",
      "19072/20000 [===========================>..] - ETA: 0s - loss: 0.0416 - acc: 0.9909Epoch 00004: val_loss improved from 0.03718 to 0.02893, saving model to xception-tune0-best_weight.h5\n",
      "20000/20000 [==============================] - 0s 19us/step - loss: 0.0418 - acc: 0.9906 - val_loss: 0.0289 - val_acc: 0.9952\n",
      "Epoch 5/20\n",
      "19584/20000 [============================>.] - ETA: 0s - loss: 0.0363 - acc: 0.9908Epoch 00005: val_loss improved from 0.02893 to 0.02489, saving model to xception-tune0-best_weight.h5\n",
      "20000/20000 [==============================] - 0s 18us/step - loss: 0.0360 - acc: 0.9909 - val_loss: 0.0249 - val_acc: 0.9952\n",
      "Epoch 6/20\n",
      "19456/20000 [============================>.] - ETA: 0s - loss: 0.0321 - acc: 0.9916Epoch 00006: val_loss improved from 0.02489 to 0.02254, saving model to xception-tune0-best_weight.h5\n",
      "20000/20000 [==============================] - 0s 19us/step - loss: 0.0318 - acc: 0.9918 - val_loss: 0.0225 - val_acc: 0.9948\n",
      "Epoch 7/20\n",
      "19200/20000 [===========================>..] - ETA: 0s - loss: 0.0302 - acc: 0.9915Epoch 00007: val_loss improved from 0.02254 to 0.02077, saving model to xception-tune0-best_weight.h5\n",
      "20000/20000 [==============================] - 0s 22us/step - loss: 0.0297 - acc: 0.9917 - val_loss: 0.0208 - val_acc: 0.9950\n",
      "Epoch 8/20\n",
      "19840/20000 [============================>.] - ETA: 0s - loss: 0.0287 - acc: 0.9919Epoch 00008: val_loss improved from 0.02077 to 0.01962, saving model to xception-tune0-best_weight.h5\n",
      "20000/20000 [==============================] - 0s 21us/step - loss: 0.0286 - acc: 0.9920 - val_loss: 0.0196 - val_acc: 0.9950\n",
      "Epoch 9/20\n",
      "19456/20000 [============================>.] - ETA: 0s - loss: 0.0282 - acc: 0.9919Epoch 00009: val_loss improved from 0.01962 to 0.01872, saving model to xception-tune0-best_weight.h5\n",
      "20000/20000 [==============================] - 0s 19us/step - loss: 0.0279 - acc: 0.9920 - val_loss: 0.0187 - val_acc: 0.9948\n",
      "Epoch 10/20\n",
      "19200/20000 [===========================>..] - ETA: 0s - loss: 0.0262 - acc: 0.9920Epoch 00010: val_loss improved from 0.01872 to 0.01804, saving model to xception-tune0-best_weight.h5\n",
      "20000/20000 [==============================] - 0s 21us/step - loss: 0.0267 - acc: 0.9919 - val_loss: 0.0180 - val_acc: 0.9948\n",
      "Epoch 11/20\n",
      "19200/20000 [===========================>..] - ETA: 0s - loss: 0.0266 - acc: 0.9923Epoch 00011: val_loss improved from 0.01804 to 0.01750, saving model to xception-tune0-best_weight.h5\n",
      "20000/20000 [==============================] - 0s 22us/step - loss: 0.0262 - acc: 0.9924 - val_loss: 0.0175 - val_acc: 0.9952\n",
      "Epoch 12/20\n",
      "17792/20000 [=========================>....] - ETA: 0s - loss: 0.0270 - acc: 0.9916Epoch 00012: val_loss improved from 0.01750 to 0.01706, saving model to xception-tune0-best_weight.h5\n",
      "20000/20000 [==============================] - 0s 24us/step - loss: 0.0264 - acc: 0.9918 - val_loss: 0.0171 - val_acc: 0.9954\n",
      "Epoch 13/20\n",
      "18560/20000 [==========================>...] - ETA: 0s - loss: 0.0243 - acc: 0.9930Epoch 00013: val_loss improved from 0.01706 to 0.01661, saving model to xception-tune0-best_weight.h5\n",
      "20000/20000 [==============================] - 1s 32us/step - loss: 0.0251 - acc: 0.9928 - val_loss: 0.0166 - val_acc: 0.9954\n",
      "Epoch 14/20\n",
      "18944/20000 [===========================>..] - ETA: 0s - loss: 0.0248 - acc: 0.9924Epoch 00014: val_loss improved from 0.01661 to 0.01626, saving model to xception-tune0-best_weight.h5\n",
      "20000/20000 [==============================] - 1s 32us/step - loss: 0.0248 - acc: 0.9924 - val_loss: 0.0163 - val_acc: 0.9954\n",
      "Epoch 15/20\n",
      "19200/20000 [===========================>..] - ETA: 0s - loss: 0.0241 - acc: 0.9924Epoch 00015: val_loss improved from 0.01626 to 0.01599, saving model to xception-tune0-best_weight.h5\n",
      "20000/20000 [==============================] - 1s 28us/step - loss: 0.0244 - acc: 0.9922 - val_loss: 0.0160 - val_acc: 0.9954\n",
      "Epoch 16/20\n",
      "19456/20000 [============================>.] - ETA: 0s - loss: 0.0240 - acc: 0.9927Epoch 00016: val_loss improved from 0.01599 to 0.01568, saving model to xception-tune0-best_weight.h5\n",
      "20000/20000 [==============================] - 1s 33us/step - loss: 0.0239 - acc: 0.9928 - val_loss: 0.0157 - val_acc: 0.9954\n",
      "Epoch 17/20\n",
      "19200/20000 [===========================>..] - ETA: 0s - loss: 0.0239 - acc: 0.9926Epoch 00017: val_loss improved from 0.01568 to 0.01545, saving model to xception-tune0-best_weight.h5\n",
      "20000/20000 [==============================] - 0s 25us/step - loss: 0.0235 - acc: 0.9927 - val_loss: 0.0154 - val_acc: 0.9954\n",
      "Epoch 18/20\n",
      "17664/20000 [=========================>....] - ETA: 0s - loss: 0.0250 - acc: 0.9924Epoch 00018: val_loss improved from 0.01545 to 0.01533, saving model to xception-tune0-best_weight.h5\n",
      "20000/20000 [==============================] - 0s 24us/step - loss: 0.0239 - acc: 0.9927 - val_loss: 0.0153 - val_acc: 0.9954\n",
      "Epoch 19/20\n",
      "17792/20000 [=========================>....] - ETA: 0s - loss: 0.0222 - acc: 0.9930Epoch 00019: val_loss improved from 0.01533 to 0.01507, saving model to xception-tune0-best_weight.h5\n",
      "20000/20000 [==============================] - 0s 24us/step - loss: 0.0228 - acc: 0.9929 - val_loss: 0.0151 - val_acc: 0.9954\n",
      "Epoch 20/20\n",
      "19840/20000 [============================>.] - ETA: 0s - loss: 0.0229 - acc: 0.9931Epoch 00020: val_loss improved from 0.01507 to 0.01492, saving model to xception-tune0-best_weight.h5\n",
      "20000/20000 [==============================] - 0s 24us/step - loss: 0.0228 - acc: 0.9931 - val_loss: 0.0149 - val_acc: 0.9952\n"
     ]
    },
    {
     "data": {
      "text/plain": [
       "<keras.callbacks.History at 0x7f029039fcf8>"
      ]
     },
     "execution_count": 7,
     "metadata": {},
     "output_type": "execute_result"
    }
   ],
   "source": [
    "## Training\n",
    "filepath=\"xception-tune0-best_weight.h5\"\n",
    "checkpoint = ModelCheckpoint(filepath, monitor='val_loss', verbose=1, save_best_only=True, mode='min',save_weights_only=True)\n",
    "callbacks_list = [checkpoint]\n",
    "model.fit(X_train, Y_train, batch_size=128, epochs=20, validation_split=0.2, shuffle=True,\n",
    "         callbacks=callbacks_list)"
   ]
  },
  {
   "cell_type": "code",
   "execution_count": 11,
   "metadata": {
    "scrolled": true
   },
   "outputs": [
    {
     "name": "stdout",
     "output_type": "stream",
     "text": [
      "12500/12500 [==============================] - 0s 28us/step\n",
      "Found 12500 images belonging to 1 classes.\n"
     ]
    }
   ],
   "source": [
    "## Testing\n",
    "predict_on_model(test_data_dir, X_test, model, \"pred-xception-original.csv\")"
   ]
  },
  {
   "cell_type": "markdown",
   "metadata": {},
   "source": [
    "将pred-xceptio-original.csv提交到Kaggle中进行评分，Xception-original本次的得分为:0.04180\n",
    "\n",
    "具体的得分情况可以在报告文档中进行查看。"
   ]
  },
  {
   "cell_type": "markdown",
   "metadata": {},
   "source": [
    "## Dropout Rate 调整\n",
    "\n",
    "为了对模型参数进行后续的优化，我们可以通过调整Dropout Rate对模型参数进行调优并且减少模型的过拟合情况，使算法在一个更大的权值空间中搜索更好的权值，而不用担心权值过大。\n",
    "\n",
    "因此我们将在这里对Dropout Rate进行调整，并找出相对适合Xception模型的Dropout值。"
   ]
  },
  {
   "cell_type": "code",
   "execution_count": 12,
   "metadata": {},
   "outputs": [
    {
     "name": "stdout",
     "output_type": "stream",
     "text": [
      "Train on 20000 samples, validate on 5000 samples\n",
      "Epoch 1/20\n",
      "20000/20000 [==============================] - 1s 31us/step - loss: 0.0149 - acc: 0.9951 - val_loss: 0.0122 - val_acc: 0.9952\n",
      "Epoch 2/20\n",
      "20000/20000 [==============================] - 0s 15us/step - loss: 0.0148 - acc: 0.9953 - val_loss: 0.0120 - val_acc: 0.9954\n",
      "Epoch 3/20\n",
      "20000/20000 [==============================] - 0s 18us/step - loss: 0.0144 - acc: 0.9954 - val_loss: 0.0120 - val_acc: 0.9958\n",
      "Epoch 4/20\n",
      "20000/20000 [==============================] - 0s 18us/step - loss: 0.0145 - acc: 0.9954 - val_loss: 0.0120 - val_acc: 0.9956\n",
      "Epoch 5/20\n",
      "20000/20000 [==============================] - 0s 17us/step - loss: 0.0143 - acc: 0.9953 - val_loss: 0.0120 - val_acc: 0.9954\n",
      "Epoch 6/20\n",
      "20000/20000 [==============================] - 0s 16us/step - loss: 0.0141 - acc: 0.9957 - val_loss: 0.0119 - val_acc: 0.9954\n",
      "Epoch 7/20\n",
      "20000/20000 [==============================] - 0s 19us/step - loss: 0.0143 - acc: 0.9951 - val_loss: 0.0119 - val_acc: 0.9954\n",
      "Epoch 8/20\n",
      "20000/20000 [==============================] - 0s 19us/step - loss: 0.0141 - acc: 0.9954 - val_loss: 0.0119 - val_acc: 0.9956\n",
      "Epoch 9/20\n",
      "20000/20000 [==============================] - 0s 15us/step - loss: 0.0143 - acc: 0.9955 - val_loss: 0.0119 - val_acc: 0.9958\n",
      "Epoch 10/20\n",
      "20000/20000 [==============================] - 0s 17us/step - loss: 0.0138 - acc: 0.9954 - val_loss: 0.0121 - val_acc: 0.9956\n",
      "Epoch 11/20\n",
      "20000/20000 [==============================] - 0s 17us/step - loss: 0.0139 - acc: 0.9956 - val_loss: 0.0119 - val_acc: 0.9956\n",
      "Epoch 12/20\n",
      "20000/20000 [==============================] - 0s 20us/step - loss: 0.0136 - acc: 0.9954 - val_loss: 0.0119 - val_acc: 0.9956\n",
      "Epoch 13/20\n",
      "20000/20000 [==============================] - 0s 17us/step - loss: 0.0134 - acc: 0.9957 - val_loss: 0.0119 - val_acc: 0.9956\n",
      "Epoch 14/20\n",
      "20000/20000 [==============================] - 0s 20us/step - loss: 0.0135 - acc: 0.9959 - val_loss: 0.0118 - val_acc: 0.9958\n",
      "Epoch 15/20\n",
      "20000/20000 [==============================] - 0s 20us/step - loss: 0.0134 - acc: 0.9957 - val_loss: 0.0119 - val_acc: 0.9958\n",
      "Epoch 16/20\n",
      "20000/20000 [==============================] - 0s 20us/step - loss: 0.0134 - acc: 0.9957 - val_loss: 0.0119 - val_acc: 0.9956\n",
      "Epoch 17/20\n",
      "20000/20000 [==============================] - 0s 17us/step - loss: 0.0130 - acc: 0.9959 - val_loss: 0.0118 - val_acc: 0.9956\n",
      "Epoch 18/20\n",
      "20000/20000 [==============================] - 0s 17us/step - loss: 0.0132 - acc: 0.9956 - val_loss: 0.0119 - val_acc: 0.9956\n",
      "Epoch 19/20\n",
      "20000/20000 [==============================] - 0s 14us/step - loss: 0.0129 - acc: 0.9958 - val_loss: 0.0119 - val_acc: 0.9958\n",
      "Epoch 20/20\n",
      "20000/20000 [==============================] - 0s 17us/step - loss: 0.0132 - acc: 0.9959 - val_loss: 0.0119 - val_acc: 0.9956\n",
      "Train on 20000 samples, validate on 5000 samples\n",
      "Epoch 1/20\n",
      "20000/20000 [==============================] - 1s 33us/step - loss: 0.0153 - acc: 0.9952 - val_loss: 0.0121 - val_acc: 0.9956\n",
      "Epoch 2/20\n",
      "20000/20000 [==============================] - 0s 16us/step - loss: 0.0155 - acc: 0.9947 - val_loss: 0.0120 - val_acc: 0.9956\n",
      "Epoch 3/20\n",
      "20000/20000 [==============================] - 0s 18us/step - loss: 0.0152 - acc: 0.9947 - val_loss: 0.0120 - val_acc: 0.9956\n",
      "Epoch 4/20\n",
      "20000/20000 [==============================] - 0s 17us/step - loss: 0.0151 - acc: 0.9953 - val_loss: 0.0120 - val_acc: 0.9956\n",
      "Epoch 5/20\n",
      "20000/20000 [==============================] - 0s 17us/step - loss: 0.0150 - acc: 0.9951 - val_loss: 0.0119 - val_acc: 0.9956\n",
      "Epoch 6/20\n",
      "20000/20000 [==============================] - 0s 19us/step - loss: 0.0145 - acc: 0.9956 - val_loss: 0.0119 - val_acc: 0.9958\n",
      "Epoch 7/20\n",
      "20000/20000 [==============================] - 0s 16us/step - loss: 0.0148 - acc: 0.9948 - val_loss: 0.0119 - val_acc: 0.9956\n",
      "Epoch 8/20\n",
      "20000/20000 [==============================] - 0s 15us/step - loss: 0.0147 - acc: 0.9949 - val_loss: 0.0119 - val_acc: 0.9954\n",
      "Epoch 9/20\n",
      "20000/20000 [==============================] - 0s 15us/step - loss: 0.0144 - acc: 0.9948 - val_loss: 0.0119 - val_acc: 0.9958\n",
      "Epoch 10/20\n",
      "20000/20000 [==============================] - 0s 15us/step - loss: 0.0143 - acc: 0.9955 - val_loss: 0.0119 - val_acc: 0.9956\n",
      "Epoch 11/20\n",
      "20000/20000 [==============================] - 0s 16us/step - loss: 0.0141 - acc: 0.9957 - val_loss: 0.0119 - val_acc: 0.9956\n",
      "Epoch 12/20\n",
      "20000/20000 [==============================] - 0s 15us/step - loss: 0.0143 - acc: 0.9955 - val_loss: 0.0118 - val_acc: 0.9956\n",
      "Epoch 13/20\n",
      "20000/20000 [==============================] - 0s 16us/step - loss: 0.0144 - acc: 0.9953 - val_loss: 0.0119 - val_acc: 0.9956\n",
      "Epoch 14/20\n",
      "20000/20000 [==============================] - 0s 17us/step - loss: 0.0142 - acc: 0.9952 - val_loss: 0.0118 - val_acc: 0.9954\n",
      "Epoch 15/20\n",
      "20000/20000 [==============================] - 0s 16us/step - loss: 0.0145 - acc: 0.9952 - val_loss: 0.0118 - val_acc: 0.9958\n",
      "Epoch 16/20\n",
      "20000/20000 [==============================] - 0s 18us/step - loss: 0.0145 - acc: 0.9948 - val_loss: 0.0118 - val_acc: 0.9956\n",
      "Epoch 17/20\n",
      "20000/20000 [==============================] - 0s 19us/step - loss: 0.0137 - acc: 0.9955 - val_loss: 0.0118 - val_acc: 0.9958\n",
      "Epoch 18/20\n",
      "20000/20000 [==============================] - 0s 19us/step - loss: 0.0138 - acc: 0.9955 - val_loss: 0.0118 - val_acc: 0.9956\n",
      "Epoch 19/20\n",
      "20000/20000 [==============================] - 0s 20us/step - loss: 0.0137 - acc: 0.9958 - val_loss: 0.0118 - val_acc: 0.9954\n",
      "Epoch 20/20\n",
      "20000/20000 [==============================] - 0s 18us/step - loss: 0.0132 - acc: 0.9953 - val_loss: 0.0118 - val_acc: 0.9954\n",
      "Train on 20000 samples, validate on 5000 samples\n",
      "Epoch 1/20\n",
      "20000/20000 [==============================] - 1s 33us/step - loss: 0.0161 - acc: 0.9948 - val_loss: 0.0121 - val_acc: 0.9956\n",
      "Epoch 2/20\n",
      "20000/20000 [==============================] - 0s 16us/step - loss: 0.0156 - acc: 0.9945 - val_loss: 0.0121 - val_acc: 0.9956\n",
      "Epoch 3/20\n",
      "20000/20000 [==============================] - 0s 15us/step - loss: 0.0158 - acc: 0.9949 - val_loss: 0.0120 - val_acc: 0.9958\n",
      "Epoch 4/20\n",
      "20000/20000 [==============================] - 0s 14us/step - loss: 0.0157 - acc: 0.9952 - val_loss: 0.0120 - val_acc: 0.9954\n",
      "Epoch 5/20\n",
      "20000/20000 [==============================] - 0s 15us/step - loss: 0.0152 - acc: 0.9948 - val_loss: 0.0120 - val_acc: 0.9954\n",
      "Epoch 6/20\n",
      "20000/20000 [==============================] - 0s 17us/step - loss: 0.0159 - acc: 0.9945 - val_loss: 0.0120 - val_acc: 0.9956\n",
      "Epoch 7/20\n",
      "20000/20000 [==============================] - 0s 18us/step - loss: 0.0153 - acc: 0.9948 - val_loss: 0.0119 - val_acc: 0.9958\n",
      "Epoch 8/20\n",
      "20000/20000 [==============================] - 0s 15us/step - loss: 0.0153 - acc: 0.9952 - val_loss: 0.0119 - val_acc: 0.9954\n",
      "Epoch 9/20\n",
      "20000/20000 [==============================] - 0s 15us/step - loss: 0.0144 - acc: 0.9957 - val_loss: 0.0119 - val_acc: 0.9956\n",
      "Epoch 10/20\n",
      "20000/20000 [==============================] - 0s 15us/step - loss: 0.0154 - acc: 0.9949 - val_loss: 0.0119 - val_acc: 0.9956\n",
      "Epoch 11/20\n",
      "20000/20000 [==============================] - 0s 15us/step - loss: 0.0154 - acc: 0.9950 - val_loss: 0.0119 - val_acc: 0.9954\n",
      "Epoch 12/20\n",
      "20000/20000 [==============================] - 0s 15us/step - loss: 0.0149 - acc: 0.9951 - val_loss: 0.0119 - val_acc: 0.9956\n",
      "Epoch 13/20\n",
      "20000/20000 [==============================] - 0s 20us/step - loss: 0.0144 - acc: 0.9957 - val_loss: 0.0119 - val_acc: 0.9956\n",
      "Epoch 14/20\n",
      "20000/20000 [==============================] - 0s 19us/step - loss: 0.0150 - acc: 0.9951 - val_loss: 0.0119 - val_acc: 0.9956\n",
      "Epoch 15/20\n",
      "20000/20000 [==============================] - 0s 17us/step - loss: 0.0145 - acc: 0.9954 - val_loss: 0.0119 - val_acc: 0.9954\n",
      "Epoch 16/20\n",
      "20000/20000 [==============================] - 0s 16us/step - loss: 0.0148 - acc: 0.9953 - val_loss: 0.0119 - val_acc: 0.9956\n",
      "Epoch 17/20\n",
      "20000/20000 [==============================] - 0s 17us/step - loss: 0.0143 - acc: 0.9953 - val_loss: 0.0118 - val_acc: 0.9956\n",
      "Epoch 18/20\n",
      "20000/20000 [==============================] - 0s 16us/step - loss: 0.0142 - acc: 0.9958 - val_loss: 0.0118 - val_acc: 0.9956\n",
      "Epoch 19/20\n",
      "20000/20000 [==============================] - 0s 16us/step - loss: 0.0140 - acc: 0.9953 - val_loss: 0.0119 - val_acc: 0.9956\n",
      "Epoch 20/20\n",
      "20000/20000 [==============================] - 0s 15us/step - loss: 0.0151 - acc: 0.9949 - val_loss: 0.0118 - val_acc: 0.9954\n",
      "Train on 20000 samples, validate on 5000 samples\n",
      "Epoch 1/20\n",
      "20000/20000 [==============================] - 1s 34us/step - loss: 0.0167 - acc: 0.9948 - val_loss: 0.0122 - val_acc: 0.9952\n",
      "Epoch 2/20\n",
      "20000/20000 [==============================] - 0s 16us/step - loss: 0.0172 - acc: 0.9945 - val_loss: 0.0121 - val_acc: 0.9958\n",
      "Epoch 3/20\n",
      "20000/20000 [==============================] - 0s 21us/step - loss: 0.0168 - acc: 0.9944 - val_loss: 0.0121 - val_acc: 0.9954\n",
      "Epoch 4/20\n",
      "20000/20000 [==============================] - 0s 22us/step - loss: 0.0170 - acc: 0.9949 - val_loss: 0.0121 - val_acc: 0.9954\n",
      "Epoch 5/20\n",
      "20000/20000 [==============================] - 0s 22us/step - loss: 0.0164 - acc: 0.9945 - val_loss: 0.0120 - val_acc: 0.9956\n",
      "Epoch 6/20\n",
      "20000/20000 [==============================] - 0s 22us/step - loss: 0.0168 - acc: 0.9946 - val_loss: 0.0120 - val_acc: 0.9956\n",
      "Epoch 7/20\n",
      "20000/20000 [==============================] - 0s 20us/step - loss: 0.0159 - acc: 0.9950 - val_loss: 0.0120 - val_acc: 0.9956\n",
      "Epoch 8/20\n",
      "20000/20000 [==============================] - 0s 17us/step - loss: 0.0150 - acc: 0.9951 - val_loss: 0.0120 - val_acc: 0.9952\n",
      "Epoch 9/20\n",
      "20000/20000 [==============================] - 0s 15us/step - loss: 0.0161 - acc: 0.9949 - val_loss: 0.0120 - val_acc: 0.9956\n",
      "Epoch 10/20\n",
      "20000/20000 [==============================] - 0s 18us/step - loss: 0.0157 - acc: 0.9948 - val_loss: 0.0120 - val_acc: 0.9956\n",
      "Epoch 11/20\n",
      "20000/20000 [==============================] - 0s 19us/step - loss: 0.0158 - acc: 0.9948 - val_loss: 0.0119 - val_acc: 0.9956\n",
      "Epoch 12/20\n",
      "20000/20000 [==============================] - 0s 17us/step - loss: 0.0159 - acc: 0.9950 - val_loss: 0.0119 - val_acc: 0.9956\n",
      "Epoch 13/20\n",
      "20000/20000 [==============================] - 0s 16us/step - loss: 0.0154 - acc: 0.9954 - val_loss: 0.0119 - val_acc: 0.9958\n",
      "Epoch 14/20\n",
      "20000/20000 [==============================] - 0s 16us/step - loss: 0.0152 - acc: 0.9951 - val_loss: 0.0119 - val_acc: 0.9954\n",
      "Epoch 15/20\n",
      "20000/20000 [==============================] - 0s 20us/step - loss: 0.0164 - acc: 0.9942 - val_loss: 0.0119 - val_acc: 0.9956\n",
      "Epoch 16/20\n",
      "20000/20000 [==============================] - 0s 19us/step - loss: 0.0158 - acc: 0.9949 - val_loss: 0.0118 - val_acc: 0.9956\n",
      "Epoch 17/20\n",
      "20000/20000 [==============================] - 0s 20us/step - loss: 0.0152 - acc: 0.9951 - val_loss: 0.0118 - val_acc: 0.9954\n",
      "Epoch 18/20\n",
      "20000/20000 [==============================] - 0s 19us/step - loss: 0.0151 - acc: 0.9953 - val_loss: 0.0118 - val_acc: 0.9956\n",
      "Epoch 19/20\n",
      "20000/20000 [==============================] - 0s 16us/step - loss: 0.0157 - acc: 0.9951 - val_loss: 0.0118 - val_acc: 0.9956\n",
      "Epoch 20/20\n",
      "20000/20000 [==============================] - 0s 17us/step - loss: 0.0151 - acc: 0.9950 - val_loss: 0.0118 - val_acc: 0.9958\n",
      "Train on 20000 samples, validate on 5000 samples\n",
      "Epoch 1/20\n",
      "20000/20000 [==============================] - 1s 35us/step - loss: 0.0185 - acc: 0.9943 - val_loss: 0.0121 - val_acc: 0.9956\n",
      "Epoch 2/20\n",
      "20000/20000 [==============================] - 0s 15us/step - loss: 0.0176 - acc: 0.9946 - val_loss: 0.0120 - val_acc: 0.9954\n",
      "Epoch 3/20\n",
      "20000/20000 [==============================] - 0s 15us/step - loss: 0.0175 - acc: 0.9945 - val_loss: 0.0120 - val_acc: 0.9956\n",
      "Epoch 4/20\n",
      "20000/20000 [==============================] - 0s 15us/step - loss: 0.0178 - acc: 0.9942 - val_loss: 0.0121 - val_acc: 0.9956\n",
      "Epoch 5/20\n",
      "20000/20000 [==============================] - 0s 16us/step - loss: 0.0169 - acc: 0.9945 - val_loss: 0.0120 - val_acc: 0.9956\n",
      "Epoch 6/20\n",
      "20000/20000 [==============================] - 0s 17us/step - loss: 0.0168 - acc: 0.9948 - val_loss: 0.0120 - val_acc: 0.9956\n",
      "Epoch 7/20\n",
      "20000/20000 [==============================] - 0s 17us/step - loss: 0.0167 - acc: 0.9947 - val_loss: 0.0120 - val_acc: 0.9956\n",
      "Epoch 8/20\n",
      "20000/20000 [==============================] - 0s 17us/step - loss: 0.0174 - acc: 0.9946 - val_loss: 0.0120 - val_acc: 0.9954\n",
      "Epoch 9/20\n",
      "20000/20000 [==============================] - 0s 16us/step - loss: 0.0168 - acc: 0.9944 - val_loss: 0.0120 - val_acc: 0.9956\n",
      "Epoch 10/20\n",
      "20000/20000 [==============================] - 0s 16us/step - loss: 0.0166 - acc: 0.9945 - val_loss: 0.0119 - val_acc: 0.9954\n",
      "Epoch 11/20\n",
      "20000/20000 [==============================] - 0s 16us/step - loss: 0.0180 - acc: 0.9940 - val_loss: 0.0120 - val_acc: 0.9954\n",
      "Epoch 12/20\n",
      "20000/20000 [==============================] - 0s 15us/step - loss: 0.0171 - acc: 0.9945 - val_loss: 0.0119 - val_acc: 0.9954\n",
      "Epoch 13/20\n",
      "20000/20000 [==============================] - 0s 18us/step - loss: 0.0172 - acc: 0.9945 - val_loss: 0.0119 - val_acc: 0.9954\n",
      "Epoch 14/20\n",
      "20000/20000 [==============================] - 0s 17us/step - loss: 0.0176 - acc: 0.9944 - val_loss: 0.0119 - val_acc: 0.9956\n",
      "Epoch 15/20\n",
      "20000/20000 [==============================] - 0s 15us/step - loss: 0.0161 - acc: 0.9949 - val_loss: 0.0119 - val_acc: 0.9956\n",
      "Epoch 16/20\n",
      "20000/20000 [==============================] - 0s 15us/step - loss: 0.0174 - acc: 0.9939 - val_loss: 0.0119 - val_acc: 0.9952\n",
      "Epoch 17/20\n",
      "20000/20000 [==============================] - 0s 19us/step - loss: 0.0163 - acc: 0.9947 - val_loss: 0.0119 - val_acc: 0.9952\n",
      "Epoch 18/20\n",
      "20000/20000 [==============================] - 0s 21us/step - loss: 0.0171 - acc: 0.9945 - val_loss: 0.0119 - val_acc: 0.9956\n",
      "Epoch 19/20\n",
      "20000/20000 [==============================] - 0s 17us/step - loss: 0.0166 - acc: 0.9950 - val_loss: 0.0119 - val_acc: 0.9958\n",
      "Epoch 20/20\n",
      "20000/20000 [==============================] - 0s 15us/step - loss: 0.0163 - acc: 0.9947 - val_loss: 0.0119 - val_acc: 0.9952\n",
      "WARNING:tensorflow:Large dropout rate: 0.6 (>0.5). In TensorFlow 2.x, dropout() uses dropout rate instead of keep_prob. Please ensure that this is intended.\n",
      "Train on 20000 samples, validate on 5000 samples\n",
      "Epoch 1/20\n",
      "20000/20000 [==============================] - 1s 39us/step - loss: 0.0193 - acc: 0.9939 - val_loss: 0.0121 - val_acc: 0.9956\n",
      "Epoch 2/20\n",
      "20000/20000 [==============================] - 0s 16us/step - loss: 0.0195 - acc: 0.9939 - val_loss: 0.0122 - val_acc: 0.9952\n",
      "Epoch 3/20\n",
      "20000/20000 [==============================] - 0s 19us/step - loss: 0.0190 - acc: 0.9941 - val_loss: 0.0121 - val_acc: 0.9956\n",
      "Epoch 4/20\n",
      "20000/20000 [==============================] - 0s 21us/step - loss: 0.0195 - acc: 0.9941 - val_loss: 0.0120 - val_acc: 0.9956\n",
      "Epoch 5/20\n",
      "20000/20000 [==============================] - 0s 15us/step - loss: 0.0194 - acc: 0.9936 - val_loss: 0.0120 - val_acc: 0.9956\n",
      "Epoch 6/20\n",
      "20000/20000 [==============================] - 0s 18us/step - loss: 0.0181 - acc: 0.9945 - val_loss: 0.0120 - val_acc: 0.9956\n",
      "Epoch 7/20\n",
      "20000/20000 [==============================] - 0s 18us/step - loss: 0.0199 - acc: 0.9942 - val_loss: 0.0119 - val_acc: 0.9956\n",
      "Epoch 8/20\n",
      "20000/20000 [==============================] - 0s 14us/step - loss: 0.0186 - acc: 0.9941 - val_loss: 0.0119 - val_acc: 0.9956\n",
      "Epoch 9/20\n",
      "20000/20000 [==============================] - 0s 17us/step - loss: 0.0196 - acc: 0.9939 - val_loss: 0.0119 - val_acc: 0.9956\n",
      "Epoch 10/20\n",
      "20000/20000 [==============================] - 0s 17us/step - loss: 0.0194 - acc: 0.9937 - val_loss: 0.0120 - val_acc: 0.9954\n",
      "Epoch 11/20\n",
      "20000/20000 [==============================] - 0s 15us/step - loss: 0.0194 - acc: 0.9936 - val_loss: 0.0119 - val_acc: 0.9956\n",
      "Epoch 12/20\n",
      "20000/20000 [==============================] - 0s 15us/step - loss: 0.0193 - acc: 0.9938 - val_loss: 0.0118 - val_acc: 0.9956\n",
      "Epoch 13/20\n",
      "20000/20000 [==============================] - 0s 17us/step - loss: 0.0183 - acc: 0.9942 - val_loss: 0.0119 - val_acc: 0.9956\n",
      "Epoch 14/20\n",
      "20000/20000 [==============================] - 0s 17us/step - loss: 0.0193 - acc: 0.9933 - val_loss: 0.0119 - val_acc: 0.9956\n",
      "Epoch 15/20\n",
      "20000/20000 [==============================] - 0s 20us/step - loss: 0.0167 - acc: 0.9949 - val_loss: 0.0118 - val_acc: 0.9956\n",
      "Epoch 16/20\n"
     ]
    },
    {
     "name": "stdout",
     "output_type": "stream",
     "text": [
      "20000/20000 [==============================] - 0s 17us/step - loss: 0.0194 - acc: 0.9937 - val_loss: 0.0118 - val_acc: 0.9954\n",
      "Epoch 17/20\n",
      "20000/20000 [==============================] - 0s 16us/step - loss: 0.0187 - acc: 0.9938 - val_loss: 0.0118 - val_acc: 0.9954\n",
      "Epoch 18/20\n",
      "20000/20000 [==============================] - 0s 15us/step - loss: 0.0184 - acc: 0.9942 - val_loss: 0.0118 - val_acc: 0.9956\n",
      "Epoch 19/20\n",
      "20000/20000 [==============================] - 0s 19us/step - loss: 0.0194 - acc: 0.9934 - val_loss: 0.0118 - val_acc: 0.9956\n",
      "Epoch 20/20\n",
      "20000/20000 [==============================] - 0s 20us/step - loss: 0.0198 - acc: 0.9936 - val_loss: 0.0118 - val_acc: 0.9956\n",
      "WARNING:tensorflow:Large dropout rate: 0.7 (>0.5). In TensorFlow 2.x, dropout() uses dropout rate instead of keep_prob. Please ensure that this is intended.\n",
      "Train on 20000 samples, validate on 5000 samples\n",
      "Epoch 1/20\n",
      "20000/20000 [==============================] - 1s 36us/step - loss: 0.0226 - acc: 0.9927 - val_loss: 0.0121 - val_acc: 0.9956\n",
      "Epoch 2/20\n",
      "20000/20000 [==============================] - 0s 19us/step - loss: 0.0222 - acc: 0.9936 - val_loss: 0.0121 - val_acc: 0.9956\n",
      "Epoch 3/20\n",
      "20000/20000 [==============================] - 0s 21us/step - loss: 0.0223 - acc: 0.9928 - val_loss: 0.0121 - val_acc: 0.9956\n",
      "Epoch 4/20\n",
      "20000/20000 [==============================] - 0s 21us/step - loss: 0.0216 - acc: 0.9932 - val_loss: 0.0121 - val_acc: 0.9956\n",
      "Epoch 5/20\n",
      "20000/20000 [==============================] - 0s 21us/step - loss: 0.0207 - acc: 0.9932 - val_loss: 0.0120 - val_acc: 0.9956\n",
      "Epoch 6/20\n",
      "20000/20000 [==============================] - 0s 21us/step - loss: 0.0230 - acc: 0.9932 - val_loss: 0.0121 - val_acc: 0.9954\n",
      "Epoch 7/20\n",
      "20000/20000 [==============================] - 0s 21us/step - loss: 0.0205 - acc: 0.9934 - val_loss: 0.0121 - val_acc: 0.9954\n",
      "Epoch 8/20\n",
      "20000/20000 [==============================] - 0s 22us/step - loss: 0.0226 - acc: 0.9932 - val_loss: 0.0120 - val_acc: 0.9956\n",
      "Epoch 9/20\n",
      "20000/20000 [==============================] - 1s 25us/step - loss: 0.0219 - acc: 0.9936 - val_loss: 0.0120 - val_acc: 0.9956\n",
      "Epoch 10/20\n",
      "20000/20000 [==============================] - 0s 18us/step - loss: 0.0227 - acc: 0.9930 - val_loss: 0.0121 - val_acc: 0.9954\n",
      "Epoch 11/20\n",
      "20000/20000 [==============================] - 0s 19us/step - loss: 0.0220 - acc: 0.9928 - val_loss: 0.0120 - val_acc: 0.9954\n",
      "Epoch 12/20\n",
      "20000/20000 [==============================] - 0s 19us/step - loss: 0.0219 - acc: 0.9934 - val_loss: 0.0120 - val_acc: 0.9954\n",
      "Epoch 13/20\n",
      "20000/20000 [==============================] - 0s 19us/step - loss: 0.0224 - acc: 0.9925 - val_loss: 0.0120 - val_acc: 0.9954\n",
      "Epoch 14/20\n",
      "20000/20000 [==============================] - 0s 19us/step - loss: 0.0200 - acc: 0.9936 - val_loss: 0.0119 - val_acc: 0.9956\n",
      "Epoch 15/20\n",
      "20000/20000 [==============================] - 0s 19us/step - loss: 0.0241 - acc: 0.9925 - val_loss: 0.0120 - val_acc: 0.9954\n",
      "Epoch 16/20\n",
      "20000/20000 [==============================] - 0s 19us/step - loss: 0.0201 - acc: 0.9935 - val_loss: 0.0120 - val_acc: 0.9954\n",
      "Epoch 17/20\n",
      "20000/20000 [==============================] - 0s 18us/step - loss: 0.0235 - acc: 0.9928 - val_loss: 0.0119 - val_acc: 0.9956\n",
      "Epoch 18/20\n",
      "20000/20000 [==============================] - 0s 18us/step - loss: 0.0209 - acc: 0.9934 - val_loss: 0.0119 - val_acc: 0.9956\n",
      "Epoch 19/20\n",
      "20000/20000 [==============================] - 0s 20us/step - loss: 0.0211 - acc: 0.9930 - val_loss: 0.0119 - val_acc: 0.9956\n",
      "Epoch 20/20\n",
      "20000/20000 [==============================] - 0s 20us/step - loss: 0.0202 - acc: 0.9933 - val_loss: 0.0119 - val_acc: 0.9956\n",
      "WARNING:tensorflow:Large dropout rate: 0.8 (>0.5). In TensorFlow 2.x, dropout() uses dropout rate instead of keep_prob. Please ensure that this is intended.\n",
      "Train on 20000 samples, validate on 5000 samples\n",
      "Epoch 1/20\n",
      "20000/20000 [==============================] - 1s 38us/step - loss: 0.0313 - acc: 0.9904 - val_loss: 0.0124 - val_acc: 0.9954\n",
      "Epoch 2/20\n",
      "20000/20000 [==============================] - 0s 15us/step - loss: 0.0279 - acc: 0.9911 - val_loss: 0.0125 - val_acc: 0.9954\n",
      "Epoch 3/20\n",
      "20000/20000 [==============================] - 0s 16us/step - loss: 0.0286 - acc: 0.9904 - val_loss: 0.0124 - val_acc: 0.9954\n",
      "Epoch 4/20\n",
      "20000/20000 [==============================] - 0s 21us/step - loss: 0.0285 - acc: 0.9913 - val_loss: 0.0126 - val_acc: 0.9958\n",
      "Epoch 5/20\n",
      "20000/20000 [==============================] - 0s 21us/step - loss: 0.0306 - acc: 0.9909 - val_loss: 0.0124 - val_acc: 0.9954\n",
      "Epoch 6/20\n",
      "20000/20000 [==============================] - 0s 18us/step - loss: 0.0291 - acc: 0.9905 - val_loss: 0.0123 - val_acc: 0.9956\n",
      "Epoch 7/20\n",
      "20000/20000 [==============================] - 0s 15us/step - loss: 0.0293 - acc: 0.9903 - val_loss: 0.0122 - val_acc: 0.9954\n",
      "Epoch 8/20\n",
      "20000/20000 [==============================] - 0s 16us/step - loss: 0.0296 - acc: 0.9910 - val_loss: 0.0122 - val_acc: 0.9956\n",
      "Epoch 9/20\n",
      "20000/20000 [==============================] - 0s 24us/step - loss: 0.0301 - acc: 0.9904 - val_loss: 0.0123 - val_acc: 0.9956\n",
      "Epoch 10/20\n",
      "20000/20000 [==============================] - 0s 21us/step - loss: 0.0305 - acc: 0.9909 - val_loss: 0.0122 - val_acc: 0.9956\n",
      "Epoch 11/20\n",
      "20000/20000 [==============================] - 0s 21us/step - loss: 0.0290 - acc: 0.9912 - val_loss: 0.0123 - val_acc: 0.9956\n",
      "Epoch 12/20\n",
      "20000/20000 [==============================] - 1s 29us/step - loss: 0.0279 - acc: 0.9915 - val_loss: 0.0122 - val_acc: 0.9956\n",
      "Epoch 13/20\n",
      "20000/20000 [==============================] - 0s 19us/step - loss: 0.0271 - acc: 0.9918 - val_loss: 0.0123 - val_acc: 0.9956\n",
      "Epoch 14/20\n",
      "20000/20000 [==============================] - 0s 18us/step - loss: 0.0287 - acc: 0.9914 - val_loss: 0.0122 - val_acc: 0.9956\n",
      "Epoch 15/20\n",
      "20000/20000 [==============================] - 0s 24us/step - loss: 0.0272 - acc: 0.9922 - val_loss: 0.0122 - val_acc: 0.9956\n",
      "Epoch 16/20\n",
      "20000/20000 [==============================] - 0s 16us/step - loss: 0.0284 - acc: 0.9911 - val_loss: 0.0121 - val_acc: 0.9956\n",
      "Epoch 17/20\n",
      "20000/20000 [==============================] - 0s 16us/step - loss: 0.0256 - acc: 0.9917 - val_loss: 0.0121 - val_acc: 0.9956\n",
      "Epoch 18/20\n",
      "20000/20000 [==============================] - 0s 21us/step - loss: 0.0280 - acc: 0.9911 - val_loss: 0.0123 - val_acc: 0.9956\n",
      "Epoch 19/20\n",
      "20000/20000 [==============================] - 0s 21us/step - loss: 0.0287 - acc: 0.9910 - val_loss: 0.0122 - val_acc: 0.9956\n",
      "Epoch 20/20\n",
      "20000/20000 [==============================] - 0s 15us/step - loss: 0.0263 - acc: 0.9912 - val_loss: 0.0123 - val_acc: 0.9956\n",
      "WARNING:tensorflow:Large dropout rate: 0.9 (>0.5). In TensorFlow 2.x, dropout() uses dropout rate instead of keep_prob. Please ensure that this is intended.\n",
      "Train on 20000 samples, validate on 5000 samples\n",
      "Epoch 1/20\n",
      "20000/20000 [==============================] - 1s 38us/step - loss: 0.0590 - acc: 0.9819 - val_loss: 0.0133 - val_acc: 0.9956\n",
      "Epoch 2/20\n",
      "20000/20000 [==============================] - 0s 17us/step - loss: 0.0557 - acc: 0.9813 - val_loss: 0.0134 - val_acc: 0.9956\n",
      "Epoch 3/20\n",
      "20000/20000 [==============================] - 0s 21us/step - loss: 0.0547 - acc: 0.9822 - val_loss: 0.0135 - val_acc: 0.9956\n",
      "Epoch 4/20\n",
      "20000/20000 [==============================] - 0s 21us/step - loss: 0.0594 - acc: 0.9812 - val_loss: 0.0133 - val_acc: 0.9956\n",
      "Epoch 5/20\n",
      "20000/20000 [==============================] - 0s 21us/step - loss: 0.0558 - acc: 0.9823 - val_loss: 0.0134 - val_acc: 0.9956\n",
      "Epoch 6/20\n",
      "20000/20000 [==============================] - 0s 21us/step - loss: 0.0522 - acc: 0.9831 - val_loss: 0.0136 - val_acc: 0.9956\n",
      "Epoch 7/20\n",
      "20000/20000 [==============================] - 0s 18us/step - loss: 0.0525 - acc: 0.9833 - val_loss: 0.0135 - val_acc: 0.9956\n",
      "Epoch 8/20\n",
      "20000/20000 [==============================] - 0s 15us/step - loss: 0.0533 - acc: 0.9830 - val_loss: 0.0134 - val_acc: 0.9954\n",
      "Epoch 9/20\n",
      "20000/20000 [==============================] - 0s 16us/step - loss: 0.0522 - acc: 0.9836 - val_loss: 0.0134 - val_acc: 0.9954\n",
      "Epoch 10/20\n",
      "20000/20000 [==============================] - 0s 24us/step - loss: 0.0510 - acc: 0.9839 - val_loss: 0.0133 - val_acc: 0.9954\n",
      "Epoch 11/20\n",
      "20000/20000 [==============================] - 0s 23us/step - loss: 0.0523 - acc: 0.9834 - val_loss: 0.0133 - val_acc: 0.9954\n",
      "Epoch 12/20\n",
      "20000/20000 [==============================] - 0s 21us/step - loss: 0.0540 - acc: 0.9839 - val_loss: 0.0134 - val_acc: 0.9954\n",
      "Epoch 13/20\n",
      "20000/20000 [==============================] - 0s 15us/step - loss: 0.0491 - acc: 0.9845 - val_loss: 0.0133 - val_acc: 0.9954\n",
      "Epoch 14/20\n",
      "20000/20000 [==============================] - 0s 14us/step - loss: 0.0499 - acc: 0.9850 - val_loss: 0.0133 - val_acc: 0.9954\n",
      "Epoch 15/20\n",
      "20000/20000 [==============================] - 0s 14us/step - loss: 0.0519 - acc: 0.9841 - val_loss: 0.0132 - val_acc: 0.9954\n",
      "Epoch 16/20\n",
      "20000/20000 [==============================] - 0s 16us/step - loss: 0.0505 - acc: 0.9842 - val_loss: 0.0133 - val_acc: 0.9954\n",
      "Epoch 17/20\n",
      "20000/20000 [==============================] - 0s 17us/step - loss: 0.0449 - acc: 0.9866 - val_loss: 0.0132 - val_acc: 0.9954\n",
      "Epoch 18/20\n",
      "20000/20000 [==============================] - 0s 23us/step - loss: 0.0493 - acc: 0.9848 - val_loss: 0.0135 - val_acc: 0.9954\n",
      "Epoch 19/20\n",
      "20000/20000 [==============================] - 0s 18us/step - loss: 0.0526 - acc: 0.9839 - val_loss: 0.0133 - val_acc: 0.9956\n",
      "Epoch 20/20\n",
      "20000/20000 [==============================] - 0s 17us/step - loss: 0.0489 - acc: 0.9846 - val_loss: 0.0134 - val_acc: 0.9954\n"
     ]
    }
   ],
   "source": [
    "epochs = 20\n",
    "\n",
    "dropout_info = []\n",
    "dropout_result=[]\n",
    "pd_data = []\n",
    "dropout_list = np.arange(0.1,1,0.1)\n",
    "for dropout in dropout_list:\n",
    "    rate_data=dropout_tuning(round(dropout,1), X_train, Y_train, epochs)\n",
    "    dropout_result.append(rate_data)"
   ]
  },
  {
   "cell_type": "code",
   "execution_count": 13,
   "metadata": {},
   "outputs": [
    {
     "data": {
      "text/html": [
       "<div>\n",
       "<style scoped>\n",
       "    .dataframe tbody tr th:only-of-type {\n",
       "        vertical-align: middle;\n",
       "    }\n",
       "\n",
       "    .dataframe tbody tr th {\n",
       "        vertical-align: top;\n",
       "    }\n",
       "\n",
       "    .dataframe thead th {\n",
       "        text-align: right;\n",
       "    }\n",
       "</style>\n",
       "<table border=\"1\" class=\"dataframe\">\n",
       "  <thead>\n",
       "    <tr style=\"text-align: right;\">\n",
       "      <th></th>\n",
       "      <th>Dropout</th>\n",
       "      <th>Avg</th>\n",
       "      <th>Max</th>\n",
       "      <th>Min</th>\n",
       "    </tr>\n",
       "  </thead>\n",
       "  <tbody>\n",
       "    <tr>\n",
       "      <th>0</th>\n",
       "      <td>0.1</td>\n",
       "      <td>0.011932</td>\n",
       "      <td>0.012197</td>\n",
       "      <td>0.011845</td>\n",
       "    </tr>\n",
       "    <tr>\n",
       "      <th>1</th>\n",
       "      <td>0.2</td>\n",
       "      <td>0.011889</td>\n",
       "      <td>0.012069</td>\n",
       "      <td>0.011770</td>\n",
       "    </tr>\n",
       "    <tr>\n",
       "      <th>2</th>\n",
       "      <td>0.3</td>\n",
       "      <td>0.011922</td>\n",
       "      <td>0.012120</td>\n",
       "      <td>0.011806</td>\n",
       "    </tr>\n",
       "    <tr>\n",
       "      <th>3</th>\n",
       "      <td>0.4</td>\n",
       "      <td>0.011952</td>\n",
       "      <td>0.012200</td>\n",
       "      <td>0.011790</td>\n",
       "    </tr>\n",
       "    <tr>\n",
       "      <th>4</th>\n",
       "      <td>0.5</td>\n",
       "      <td>0.011956</td>\n",
       "      <td>0.012080</td>\n",
       "      <td>0.011854</td>\n",
       "    </tr>\n",
       "    <tr>\n",
       "      <th>5</th>\n",
       "      <td>0.6</td>\n",
       "      <td>0.011907</td>\n",
       "      <td>0.012183</td>\n",
       "      <td>0.011750</td>\n",
       "    </tr>\n",
       "    <tr>\n",
       "      <th>6</th>\n",
       "      <td>0.7</td>\n",
       "      <td>0.012001</td>\n",
       "      <td>0.012144</td>\n",
       "      <td>0.011861</td>\n",
       "    </tr>\n",
       "    <tr>\n",
       "      <th>7</th>\n",
       "      <td>0.8</td>\n",
       "      <td>0.012288</td>\n",
       "      <td>0.012565</td>\n",
       "      <td>0.012081</td>\n",
       "    </tr>\n",
       "    <tr>\n",
       "      <th>8</th>\n",
       "      <td>0.9</td>\n",
       "      <td>0.013365</td>\n",
       "      <td>0.013602</td>\n",
       "      <td>0.013175</td>\n",
       "    </tr>\n",
       "  </tbody>\n",
       "</table>\n",
       "</div>"
      ],
      "text/plain": [
       "   Dropout       Avg       Max       Min\n",
       "0      0.1  0.011932  0.012197  0.011845\n",
       "1      0.2  0.011889  0.012069  0.011770\n",
       "2      0.3  0.011922  0.012120  0.011806\n",
       "3      0.4  0.011952  0.012200  0.011790\n",
       "4      0.5  0.011956  0.012080  0.011854\n",
       "5      0.6  0.011907  0.012183  0.011750\n",
       "6      0.7  0.012001  0.012144  0.011861\n",
       "7      0.8  0.012288  0.012565  0.012081\n",
       "8      0.9  0.013365  0.013602  0.013175"
      ]
     },
     "execution_count": 13,
     "metadata": {},
     "output_type": "execute_result"
    }
   ],
   "source": [
    "## dropout rate and val_loss\n",
    "for index in range(len(dropout_result)):\n",
    "    row = []\n",
    "    avg_value = np.average(dropout_result[index][1])\n",
    "    max_value = np.max(dropout_result[index][1])\n",
    "    min_value = np.min(dropout_result[index][1])\n",
    "    dropout_value = dropout_list[index]\n",
    "    row.append(dropout_value)\n",
    "    row.append(avg_value)\n",
    "    row.append(max_value)\n",
    "    row.append(min_value)\n",
    "    pd_data.append(row)\n",
    "\n",
    "val_loss_df = pd.DataFrame(\n",
    "    data=pd_data,\n",
    "    columns=['Dropout', 'Avg', 'Max', 'Min']\n",
    ")\n",
    "\n",
    "val_loss_df"
   ]
  },
  {
   "cell_type": "code",
   "execution_count": 14,
   "metadata": {},
   "outputs": [
    {
     "data": {
      "image/png": "[encoded data removed]",
      "text/plain": [
       "<Figure size 432x288 with 1 Axes>"
      ]
     },
     "metadata": {
      "needs_background": "light"
     },
     "output_type": "display_data"
    }
   ],
   "source": [
    "## visualization the result\n",
    "for index in range(len(dropout_result)):\n",
    "    plt.plot(dropout_result[index][1],label=dropout_result[index][0])\n",
    "\n",
    "plt.xlabel('Times')\n",
    "plt.ylabel('Val_Loss')\n",
    "plt.legend(loc='best')\n",
    "plt.show()"
   ]
  },
  {
   "cell_type": "markdown",
   "metadata": {},
   "source": [
    "从DataFrame以及可视化的结果中可以看出，Dropout Rate等于0.2的时候结果平均值和最大值是最佳的，而其最小值也是倒数第二小的。因此可以认为Dropout值为0.2时效果最佳。\n",
    "\n",
    "然后我将对一些其中表现及较好的其他的Dropout数值（0.2, 0.4, 0.6）进行训练："
   ]
  },
  {
   "cell_type": "code",
   "execution_count": 28,
   "metadata": {},
   "outputs": [],
   "source": [
    "## Construct the model\n",
    "input_tensor = Input(X_train.shape[1:])\n",
    "x = Dropout(0.2)(input_tensor)\n",
    "x = Dense(1, activation='sigmoid')(x)\n",
    "model = Model(input_tensor, x)\n",
    "\n",
    "model.compile(optimizer='adadelta',\n",
    "              loss='binary_crossentropy',\n",
    "              metrics=['accuracy'])"
   ]
  },
  {
   "cell_type": "code",
   "execution_count": 29,
   "metadata": {},
   "outputs": [
    {
     "name": "stdout",
     "output_type": "stream",
     "text": [
      "Train on 20000 samples, validate on 5000 samples\n",
      "Epoch 1/20\n",
      "18048/20000 [==========================>...] - ETA: 0s - loss: 0.2649 - acc: 0.9654Epoch 00001: val_loss improved from inf to 0.10728, saving model to xception-tune0-best_weight.h5\n",
      "20000/20000 [==============================] - 2s 113us/step - loss: 0.2505 - acc: 0.9678 - val_loss: 0.1073 - val_acc: 0.9936\n",
      "Epoch 2/20\n",
      "18816/20000 [===========================>..] - ETA: 0s - loss: 0.0810 - acc: 0.9895Epoch 00002: val_loss improved from 0.10728 to 0.05013, saving model to xception-tune0-best_weight.h5\n",
      "20000/20000 [==============================] - 0s 22us/step - loss: 0.0793 - acc: 0.9896 - val_loss: 0.0501 - val_acc: 0.9948\n",
      "Epoch 3/20\n",
      "18944/20000 [===========================>..] - ETA: 0s - loss: 0.0472 - acc: 0.9906Epoch 00003: val_loss improved from 0.05013 to 0.03257, saving model to xception-tune0-best_weight.h5\n",
      "20000/20000 [==============================] - 0s 22us/step - loss: 0.0465 - acc: 0.9907 - val_loss: 0.0326 - val_acc: 0.9950\n",
      "Epoch 4/20\n",
      "18176/20000 [==========================>...] - ETA: 0s - loss: 0.0352 - acc: 0.9919Epoch 00004: val_loss improved from 0.03257 to 0.02565, saving model to xception-tune0-best_weight.h5\n",
      "20000/20000 [==============================] - 1s 26us/step - loss: 0.0352 - acc: 0.9919 - val_loss: 0.0257 - val_acc: 0.9952\n",
      "Epoch 5/20\n",
      "19456/20000 [============================>.] - ETA: 0s - loss: 0.0298 - acc: 0.9924Epoch 00005: val_loss improved from 0.02565 to 0.02224, saving model to xception-tune0-best_weight.h5\n",
      "20000/20000 [==============================] - 0s 25us/step - loss: 0.0300 - acc: 0.9923 - val_loss: 0.0222 - val_acc: 0.9950\n",
      "Epoch 6/20\n",
      "19072/20000 [===========================>..] - ETA: 0s - loss: 0.0277 - acc: 0.9923Epoch 00006: val_loss improved from 0.02224 to 0.02040, saving model to xception-tune0-best_weight.h5\n",
      "20000/20000 [==============================] - 0s 25us/step - loss: 0.0277 - acc: 0.9924 - val_loss: 0.0204 - val_acc: 0.9950\n",
      "Epoch 7/20\n",
      "19200/20000 [===========================>..] - ETA: 0s - loss: 0.0254 - acc: 0.9928Epoch 00007: val_loss improved from 0.02040 to 0.01906, saving model to xception-tune0-best_weight.h5\n",
      "20000/20000 [==============================] - 0s 25us/step - loss: 0.0259 - acc: 0.9927 - val_loss: 0.0191 - val_acc: 0.9952\n",
      "Epoch 8/20\n",
      "18560/20000 [==========================>...] - ETA: 0s - loss: 0.0237 - acc: 0.9929Epoch 00008: val_loss improved from 0.01906 to 0.01811, saving model to xception-tune0-best_weight.h5\n",
      "20000/20000 [==============================] - 0s 22us/step - loss: 0.0239 - acc: 0.9927 - val_loss: 0.0181 - val_acc: 0.9952\n",
      "Epoch 9/20\n",
      "18304/20000 [==========================>...] - ETA: 0s - loss: 0.0238 - acc: 0.9933Epoch 00009: val_loss improved from 0.01811 to 0.01742, saving model to xception-tune0-best_weight.h5\n",
      "20000/20000 [==============================] - 0s 23us/step - loss: 0.0240 - acc: 0.9931 - val_loss: 0.0174 - val_acc: 0.9954\n",
      "Epoch 10/20\n",
      "18048/20000 [==========================>...] - ETA: 0s - loss: 0.0230 - acc: 0.9929Epoch 00010: val_loss improved from 0.01742 to 0.01684, saving model to xception-tune0-best_weight.h5\n",
      "20000/20000 [==============================] - 1s 26us/step - loss: 0.0227 - acc: 0.9930 - val_loss: 0.0168 - val_acc: 0.9954\n",
      "Epoch 11/20\n",
      "17792/20000 [=========================>....] - ETA: 0s - loss: 0.0224 - acc: 0.9936Epoch 00011: val_loss improved from 0.01684 to 0.01639, saving model to xception-tune0-best_weight.h5\n",
      "20000/20000 [==============================] - 1s 28us/step - loss: 0.0225 - acc: 0.9935 - val_loss: 0.0164 - val_acc: 0.9954\n",
      "Epoch 12/20\n",
      "17792/20000 [=========================>....] - ETA: 0s - loss: 0.0212 - acc: 0.9939Epoch 00012: val_loss improved from 0.01639 to 0.01619, saving model to xception-tune0-best_weight.h5\n",
      "20000/20000 [==============================] - 0s 20us/step - loss: 0.0215 - acc: 0.9935 - val_loss: 0.0162 - val_acc: 0.9954\n",
      "Epoch 13/20\n",
      "19200/20000 [===========================>..] - ETA: 0s - loss: 0.0216 - acc: 0.9931Epoch 00013: val_loss improved from 0.01619 to 0.01588, saving model to xception-tune0-best_weight.h5\n",
      "20000/20000 [==============================] - 0s 22us/step - loss: 0.0214 - acc: 0.9932 - val_loss: 0.0159 - val_acc: 0.9950\n",
      "Epoch 14/20\n",
      "18432/20000 [==========================>...] - ETA: 0s - loss: 0.0217 - acc: 0.9933Epoch 00014: val_loss improved from 0.01588 to 0.01545, saving model to xception-tune0-best_weight.h5\n",
      "20000/20000 [==============================] - 0s 23us/step - loss: 0.0213 - acc: 0.9935 - val_loss: 0.0154 - val_acc: 0.9956\n",
      "Epoch 15/20\n",
      "19584/20000 [============================>.] - ETA: 0s - loss: 0.0215 - acc: 0.9932Epoch 00015: val_loss improved from 0.01545 to 0.01531, saving model to xception-tune0-best_weight.h5\n",
      "20000/20000 [==============================] - 1s 25us/step - loss: 0.0214 - acc: 0.9931 - val_loss: 0.0153 - val_acc: 0.9956\n",
      "Epoch 16/20\n",
      "18432/20000 [==========================>...] - ETA: 0s - loss: 0.0208 - acc: 0.9934Epoch 00016: val_loss improved from 0.01531 to 0.01506, saving model to xception-tune0-best_weight.h5\n",
      "20000/20000 [==============================] - 0s 22us/step - loss: 0.0200 - acc: 0.9937 - val_loss: 0.0151 - val_acc: 0.9956\n",
      "Epoch 17/20\n",
      "18432/20000 [==========================>...] - ETA: 0s - loss: 0.0210 - acc: 0.9933Epoch 00017: val_loss improved from 0.01506 to 0.01481, saving model to xception-tune0-best_weight.h5\n",
      "20000/20000 [==============================] - 0s 23us/step - loss: 0.0203 - acc: 0.9935 - val_loss: 0.0148 - val_acc: 0.9954\n",
      "Epoch 18/20\n",
      "19968/20000 [============================>.] - ETA: 0s - loss: 0.0196 - acc: 0.9935Epoch 00018: val_loss improved from 0.01481 to 0.01468, saving model to xception-tune0-best_weight.h5\n",
      "20000/20000 [==============================] - 0s 24us/step - loss: 0.0195 - acc: 0.9935 - val_loss: 0.0147 - val_acc: 0.9952\n",
      "Epoch 19/20\n",
      "19072/20000 [===========================>..] - ETA: 0s - loss: 0.0191 - acc: 0.9942Epoch 00019: val_loss improved from 0.01468 to 0.01454, saving model to xception-tune0-best_weight.h5\n",
      "20000/20000 [==============================] - 1s 26us/step - loss: 0.0191 - acc: 0.9942 - val_loss: 0.0145 - val_acc: 0.9956\n",
      "Epoch 20/20\n",
      "18432/20000 [==========================>...] - ETA: 0s - loss: 0.0195 - acc: 0.9939Epoch 00020: val_loss improved from 0.01454 to 0.01435, saving model to xception-tune0-best_weight.h5\n",
      "20000/20000 [==============================] - 0s 23us/step - loss: 0.0194 - acc: 0.9938 - val_loss: 0.0143 - val_acc: 0.9954\n"
     ]
    },
    {
     "data": {
      "text/plain": [
       "<keras.callbacks.History at 0x7f87e6c5a128>"
      ]
     },
     "execution_count": 29,
     "metadata": {},
     "output_type": "execute_result"
    }
   ],
   "source": [
    "## Training\n",
    "filepath=\"xception-tune0-best_weight.h5\"\n",
    "checkpoint = ModelCheckpoint(filepath, monitor='val_loss', verbose=1, save_best_only=True, mode='min',save_weights_only=True)\n",
    "callbacks_list = [checkpoint]\n",
    "model.fit(X_train, Y_train, batch_size=128, epochs=20, validation_split=0.2, shuffle=True,\n",
    "         callbacks=callbacks_list)"
   ]
  },
  {
   "cell_type": "code",
   "execution_count": 30,
   "metadata": {},
   "outputs": [
    {
     "name": "stdout",
     "output_type": "stream",
     "text": [
      "12500/12500 [==============================] - 1s 74us/step\n",
      "Found 12500 images belonging to 1 classes.\n"
     ]
    }
   ],
   "source": [
    "## Testing\n",
    "predict_on_model(test_data_dir, X_test, model, \"pred-xception-dropout.csv\")"
   ]
  },
  {
   "cell_type": "markdown",
   "metadata": {},
   "source": [
    "将使用了不同的Dropout值的pred-xception-dropout.csv提交到Kaggle中进行评分，\n",
    "\n",
    "- Dropout Rate = 0.2的得分为:0.04057。\n",
    "- Dropout Rate = 0.4的得分为:0.04145。\n",
    "- Dropout Rate = 0.5的得分为:0.04180，这个是由前面的pred-xception-original.csv得到的。\n",
    "- Dropout Rate = 0.6的得分为:0.04196。\n",
    "\n",
    "可以看出在对Dropout率进行调整之后，结果是有所提高的，我们取其中最优秀的评分，即Dropout Rate = 0.2进行后续的训练。\n",
    "\n",
    "具体的得分情况可以在报告文档中进行查看。"
   ]
  },
  {
   "cell_type": "markdown",
   "metadata": {},
   "source": [
    "## 训练不同层级的参数与权重"
   ]
  },
  {
   "cell_type": "markdown",
   "metadata": {},
   "source": [
    "我们对于Xception不同层的权重训练将从使用Dropout Rate=0.2的Xception模型开始。首先，我们将使用在Udacity深度学习模块中的策略，先冻结所有Xception的权重参数并对其全连接层进行训练。"
   ]
  },
  {
   "cell_type": "code",
   "execution_count": 34,
   "metadata": {},
   "outputs": [
    {
     "name": "stdout",
     "output_type": "stream",
     "text": [
      "Found 20000 images belonging to 2 classes.\n",
      "Found 5000 images belonging to 2 classes.\n",
      "0 input_8\n",
      "1 lambda_6\n",
      "2 block1_conv1\n",
      "3 block1_conv1_bn\n",
      "4 block1_conv1_act\n",
      "5 block1_conv2\n",
      "6 block1_conv2_bn\n",
      "7 block1_conv2_act\n",
      "8 block2_sepconv1\n",
      "9 block2_sepconv1_bn\n",
      "10 block2_sepconv2_act\n",
      "11 block2_sepconv2\n",
      "12 block2_sepconv2_bn\n",
      "13 conv2d_21\n",
      "14 block2_pool\n",
      "15 batch_normalization_21\n",
      "16 add_61\n",
      "17 block3_sepconv1_act\n",
      "18 block3_sepconv1\n",
      "19 block3_sepconv1_bn\n",
      "20 block3_sepconv2_act\n",
      "21 block3_sepconv2\n",
      "22 block3_sepconv2_bn\n",
      "23 conv2d_22\n",
      "24 block3_pool\n",
      "25 batch_normalization_22\n",
      "26 add_62\n",
      "27 block4_sepconv1_act\n",
      "28 block4_sepconv1\n",
      "29 block4_sepconv1_bn\n",
      "30 block4_sepconv2_act\n",
      "31 block4_sepconv2\n",
      "32 block4_sepconv2_bn\n",
      "33 conv2d_23\n",
      "34 block4_pool\n",
      "35 batch_normalization_23\n",
      "36 add_63\n",
      "37 block5_sepconv1_act\n",
      "38 block5_sepconv1\n",
      "39 block5_sepconv1_bn\n",
      "40 block5_sepconv2_act\n",
      "41 block5_sepconv2\n",
      "42 block5_sepconv2_bn\n",
      "43 block5_sepconv3_act\n",
      "44 block5_sepconv3\n",
      "45 block5_sepconv3_bn\n",
      "46 add_64\n",
      "47 block6_sepconv1_act\n",
      "48 block6_sepconv1\n",
      "49 block6_sepconv1_bn\n",
      "50 block6_sepconv2_act\n",
      "51 block6_sepconv2\n",
      "52 block6_sepconv2_bn\n",
      "53 block6_sepconv3_act\n",
      "54 block6_sepconv3\n",
      "55 block6_sepconv3_bn\n",
      "56 add_65\n",
      "57 block7_sepconv1_act\n",
      "58 block7_sepconv1\n",
      "59 block7_sepconv1_bn\n",
      "60 block7_sepconv2_act\n",
      "61 block7_sepconv2\n",
      "62 block7_sepconv2_bn\n",
      "63 block7_sepconv3_act\n",
      "64 block7_sepconv3\n",
      "65 block7_sepconv3_bn\n",
      "66 add_66\n",
      "67 block8_sepconv1_act\n",
      "68 block8_sepconv1\n",
      "69 block8_sepconv1_bn\n",
      "70 block8_sepconv2_act\n",
      "71 block8_sepconv2\n",
      "72 block8_sepconv2_bn\n",
      "73 block8_sepconv3_act\n",
      "74 block8_sepconv3\n",
      "75 block8_sepconv3_bn\n",
      "76 add_67\n",
      "77 block9_sepconv1_act\n",
      "78 block9_sepconv1\n",
      "79 block9_sepconv1_bn\n",
      "80 block9_sepconv2_act\n",
      "81 block9_sepconv2\n",
      "82 block9_sepconv2_bn\n",
      "83 block9_sepconv3_act\n",
      "84 block9_sepconv3\n",
      "85 block9_sepconv3_bn\n",
      "86 add_68\n",
      "87 block10_sepconv1_act\n",
      "88 block10_sepconv1\n",
      "89 block10_sepconv1_bn\n",
      "90 block10_sepconv2_act\n",
      "91 block10_sepconv2\n",
      "92 block10_sepconv2_bn\n",
      "93 block10_sepconv3_act\n",
      "94 block10_sepconv3\n",
      "95 block10_sepconv3_bn\n",
      "96 add_69\n",
      "97 block11_sepconv1_act\n",
      "98 block11_sepconv1\n",
      "99 block11_sepconv1_bn\n",
      "100 block11_sepconv2_act\n",
      "101 block11_sepconv2\n",
      "102 block11_sepconv2_bn\n",
      "103 block11_sepconv3_act\n",
      "104 block11_sepconv3\n",
      "105 block11_sepconv3_bn\n",
      "106 add_70\n",
      "107 block12_sepconv1_act\n",
      "108 block12_sepconv1\n",
      "109 block12_sepconv1_bn\n",
      "110 block12_sepconv2_act\n",
      "111 block12_sepconv2\n",
      "112 block12_sepconv2_bn\n",
      "113 block12_sepconv3_act\n",
      "114 block12_sepconv3\n",
      "115 block12_sepconv3_bn\n",
      "116 add_71\n",
      "117 block13_sepconv1_act\n",
      "118 block13_sepconv1\n",
      "119 block13_sepconv1_bn\n",
      "120 block13_sepconv2_act\n",
      "121 block13_sepconv2\n",
      "122 block13_sepconv2_bn\n",
      "123 conv2d_24\n",
      "124 block13_pool\n",
      "125 batch_normalization_24\n",
      "126 add_72\n",
      "127 block14_sepconv1\n",
      "128 block14_sepconv1_bn\n",
      "129 block14_sepconv1_act\n",
      "130 block14_sepconv2\n",
      "131 block14_sepconv2_bn\n",
      "132 block14_sepconv2_act\n",
      "133 global_average_pooling2d_6\n",
      "134 dropout_8\n",
      "135 dense_8\n"
     ]
    }
   ],
   "source": [
    "#构造模型\n",
    "x_input = Input((299, 299, 3))\n",
    "x_input = Lambda(xception.preprocess_input)(x_input)\n",
    "\n",
    "base_model = Xception(input_tensor=x_input, weights='imagenet', include_top=False, pooling = 'avg')\n",
    "\n",
    "for layer in base_model.layers:\n",
    "    layer.trainable = False\n",
    "    \n",
    "x = Dropout(0.2)(base_model.output)\n",
    "x = Dense(1, activation='sigmoid',kernel_regularizer=regularizers.l2(0.001))(x)\n",
    "model = Model(base_model.input, x)\n",
    "model.compile(optimizer='adadelta',\n",
    "              loss='binary_crossentropy',\n",
    "              metrics=['accuracy'])\n",
    "\n",
    "gen = ImageDataGenerator(rotation_range=90,\n",
    "                        width_shift_range=0.2,\n",
    "                        height_shift_range=0.2,\n",
    "                        shear_range=0.2,\n",
    "                        zoom_range=0.2,\n",
    "                        horizontal_flip=True)\n",
    "\n",
    "val_gen = ImageDataGenerator()\n",
    "\n",
    "train_generator = gen.flow_from_directory(train_data_dir, (299, 299), shuffle=True, \n",
    "                                          batch_size=32,class_mode='binary')\n",
    "valid_generator = val_gen.flow_from_directory(valid_data_dir, (299, 299), shuffle=True, \n",
    "                                          batch_size=32,class_mode='binary')\n",
    "\n",
    "for i in range(len(model.layers)):\n",
    "    print(i,model.layers[i].name)"
   ]
  },
  {
   "cell_type": "code",
   "execution_count": 35,
   "metadata": {
    "scrolled": true
   },
   "outputs": [
    {
     "name": "stdout",
     "output_type": "stream",
     "text": [
      "Epoch 1/15\n",
      "624/625 [============================>.] - ETA: 0s - loss: 0.2768 - acc: 0.9156Epoch 00001: val_loss improved from inf to 0.09912, saving model to xception-best_weight_freeze.h5\n",
      "625/625 [==============================] - 286s 457ms/step - loss: 0.2768 - acc: 0.9155 - val_loss: 0.0991 - val_acc: 0.9870\n",
      "Epoch 2/15\n",
      "624/625 [============================>.] - ETA: 0s - loss: 0.1694 - acc: 0.9412Epoch 00002: val_loss improved from 0.09912 to 0.07241, saving model to xception-best_weight_freeze.h5\n",
      "625/625 [==============================] - 267s 427ms/step - loss: 0.1694 - acc: 0.9413 - val_loss: 0.0724 - val_acc: 0.9872\n",
      "Epoch 3/15\n",
      "624/625 [============================>.] - ETA: 0s - loss: 0.1539 - acc: 0.9469Epoch 00003: val_loss improved from 0.07241 to 0.06450, saving model to xception-best_weight_freeze.h5\n",
      "625/625 [==============================] - 267s 427ms/step - loss: 0.1537 - acc: 0.9470 - val_loss: 0.0645 - val_acc: 0.9872\n",
      "Epoch 4/15\n",
      "624/625 [============================>.] - ETA: 0s - loss: 0.1499 - acc: 0.9453Epoch 00004: val_loss improved from 0.06450 to 0.06271, saving model to xception-best_weight_freeze.h5\n",
      "625/625 [==============================] - 267s 427ms/step - loss: 0.1499 - acc: 0.9453 - val_loss: 0.0627 - val_acc: 0.9892\n",
      "Epoch 5/15\n",
      "624/625 [============================>.] - ETA: 0s - loss: 0.1456 - acc: 0.9473Epoch 00005: val_loss improved from 0.06271 to 0.05912, saving model to xception-best_weight_freeze.h5\n",
      "625/625 [==============================] - 270s 432ms/step - loss: 0.1456 - acc: 0.9473 - val_loss: 0.0591 - val_acc: 0.9886\n",
      "Epoch 6/15\n",
      "624/625 [============================>.] - ETA: 0s - loss: 0.1423 - acc: 0.9482Epoch 00006: val_loss improved from 0.05912 to 0.05808, saving model to xception-best_weight_freeze.h5\n",
      "625/625 [==============================] - 272s 435ms/step - loss: 0.1423 - acc: 0.9483 - val_loss: 0.0581 - val_acc: 0.9892\n",
      "Epoch 7/15\n",
      "624/625 [============================>.] - ETA: 0s - loss: 0.1421 - acc: 0.9488Epoch 00007: val_loss improved from 0.05808 to 0.05647, saving model to xception-best_weight_freeze.h5\n",
      "625/625 [==============================] - 271s 433ms/step - loss: 0.1421 - acc: 0.9487 - val_loss: 0.0565 - val_acc: 0.9892\n",
      "Epoch 8/15\n",
      "624/625 [============================>.] - ETA: 0s - loss: 0.1402 - acc: 0.9501Epoch 00008: val_loss improved from 0.05647 to 0.05627, saving model to xception-best_weight_freeze.h5\n",
      "625/625 [==============================] - 277s 442ms/step - loss: 0.1402 - acc: 0.9501 - val_loss: 0.0563 - val_acc: 0.9888\n",
      "Epoch 9/15\n",
      "624/625 [============================>.] - ETA: 0s - loss: 0.1373 - acc: 0.9504Epoch 00009: val_loss improved from 0.05627 to 0.05616, saving model to xception-best_weight_freeze.h5\n",
      "625/625 [==============================] - 268s 429ms/step - loss: 0.1373 - acc: 0.9504 - val_loss: 0.0562 - val_acc: 0.9896\n",
      "Epoch 10/15\n",
      "624/625 [============================>.] - ETA: 0s - loss: 0.1364 - acc: 0.9524Epoch 00010: val_loss improved from 0.05616 to 0.05578, saving model to xception-best_weight_freeze.h5\n",
      "625/625 [==============================] - 271s 434ms/step - loss: 0.1365 - acc: 0.9524 - val_loss: 0.0558 - val_acc: 0.9888\n",
      "Epoch 11/15\n",
      "624/625 [============================>.] - ETA: 0s - loss: 0.1434 - acc: 0.9496Epoch 00011: val_loss did not improve\n",
      "625/625 [==============================] - 271s 433ms/step - loss: 0.1433 - acc: 0.9496 - val_loss: 0.0558 - val_acc: 0.9882\n",
      "Epoch 12/15\n",
      "624/625 [============================>.] - ETA: 0s - loss: 0.1372 - acc: 0.9514Epoch 00012: val_loss did not improve\n",
      "625/625 [==============================] - 271s 434ms/step - loss: 0.1372 - acc: 0.9515 - val_loss: 0.0561 - val_acc: 0.9878\n",
      "Epoch 13/15\n",
      "624/625 [============================>.] - ETA: 0s - loss: 0.1396 - acc: 0.9500Epoch 00013: val_loss improved from 0.05578 to 0.05506, saving model to xception-best_weight_freeze.h5\n",
      "625/625 [==============================] - 273s 437ms/step - loss: 0.1396 - acc: 0.9499 - val_loss: 0.0551 - val_acc: 0.9892\n",
      "Epoch 14/15\n",
      "624/625 [============================>.] - ETA: 0s - loss: 0.1364 - acc: 0.9516Epoch 00014: val_loss did not improve\n",
      "625/625 [==============================] - 286s 457ms/step - loss: 0.1363 - acc: 0.9516 - val_loss: 0.0555 - val_acc: 0.9896\n",
      "Epoch 15/15\n",
      "624/625 [============================>.] - ETA: 0s - loss: 0.1368 - acc: 0.9510Epoch 00015: val_loss did not improve\n",
      "625/625 [==============================] - 282s 451ms/step - loss: 0.1368 - acc: 0.9510 - val_loss: 0.0558 - val_acc: 0.9906\n"
     ]
    }
   ],
   "source": [
    "filepath=\"xception-best_weight_freeze.h5\"\n",
    "checkpoint = ModelCheckpoint(filepath, monitor='val_loss', verbose=1, save_best_only=True, mode='min',save_weights_only=True)\n",
    "callbacks_list = [checkpoint]\n",
    "\n",
    "recordFreeze = model.fit_generator(\n",
    "        train_generator,\n",
    "        steps_per_epoch=625,\n",
    "        epochs=15,\n",
    "        validation_data=valid_generator,\n",
    "        validation_steps=150,\n",
    "        callbacks = callbacks_list)"
   ]
  },
  {
   "cell_type": "code",
   "execution_count": 36,
   "metadata": {},
   "outputs": [
    {
     "data": {
      "image/png": "[encoded data removed]",
      "text/plain": [
       "<Figure size 432x288 with 1 Axes>"
      ]
     },
     "metadata": {
      "needs_background": "light"
     },
     "output_type": "display_data"
    }
   ],
   "source": [
    "plt.plot(recordFreeze.history['val_loss'])\n",
    "plt.xlabel('time')\n",
    "plt.ylabel('val_loss')\n",
    "plt.show()"
   ]
  },
  {
   "cell_type": "code",
   "execution_count": null,
   "metadata": {
    "scrolled": false
   },
   "outputs": [],
   "source": [
    "predict_on_xception(12500, 299, 299, test_data_dir, model, \"xception-best_weight_freeze.h5\", \"pred-xception-freeze.csv\")"
   ]
  },
  {
   "cell_type": "markdown",
   "metadata": {},
   "source": [
    "将pred-xception-freeze.csv提交到Kaggle中进行评分，Xception-freeze本次的得分为:0.06179。从这一个阶段的结果可以看出训练全连接层对于结果的改变是较为显著的，而且如果仅仅是训练\n",
    "\n",
    "具体的得分情况可以在报告文档中进行查看。"
   ]
  },
  {
   "cell_type": "markdown",
   "metadata": {},
   "source": [
    "我们可以看到，如果仅仅只是对全连接层进行训练的话，神经网络内部参数不进行更多的改变的话是比较难以适应或者说贴合识别猫和狗的特定需求的。因此在这个基础上我们需要开放更多层级的权限让训练集更加充分地调整神经网络的参数。\n",
    "\n",
    "由于在之前的层数结构中我们可以看到我们添加了Dropout层和全连接层的Xception模型中在最后几段中分为87, 97, 107, 117, 127几个节段。为了使得能够训练的参数数目足够多，同时兼顾训练的时间成本，我们在这里仅仅选择了97以及107以上的部分进行后续的参数调整和训练。"
   ]
  },
  {
   "cell_type": "code",
   "execution_count": 37,
   "metadata": {
    "scrolled": true
   },
   "outputs": [],
   "source": [
    "for layer in model.layers:\n",
    "    layer.trainable = False\n",
    "    \n",
    "for layer in model.layers[97:]:\n",
    "    layer.trainable = True\n",
    "    \n",
    "model.load_weights('xception-best_weight_freeze.h5')\n",
    "model.compile(optimizer='adadelta',\n",
    "              loss='binary_crossentropy',\n",
    "              metrics=['accuracy'])"
   ]
  },
  {
   "cell_type": "code",
   "execution_count": 38,
   "metadata": {},
   "outputs": [
    {
     "name": "stdout",
     "output_type": "stream",
     "text": [
      "Epoch 1/15\n",
      "624/625 [============================>.] - ETA: 0s - loss: 0.0970 - acc: 0.9676Epoch 00001: val_loss improved from inf to 0.02900, saving model to xception-97.h5\n",
      "625/625 [==============================] - 378s 605ms/step - loss: 0.0969 - acc: 0.9677 - val_loss: 0.0290 - val_acc: 0.9936\n",
      "Epoch 2/15\n",
      "624/625 [============================>.] - ETA: 0s - loss: 0.0612 - acc: 0.9809Epoch 00002: val_loss improved from 0.02900 to 0.02731, saving model to xception-97.h5\n",
      "625/625 [==============================] - 388s 621ms/step - loss: 0.0612 - acc: 0.9808 - val_loss: 0.0273 - val_acc: 0.9938\n",
      "Epoch 3/15\n",
      "624/625 [============================>.] - ETA: 0s - loss: 0.0508 - acc: 0.9849Epoch 00003: val_loss improved from 0.02731 to 0.02626, saving model to xception-97.h5\n",
      "625/625 [==============================] - 387s 619ms/step - loss: 0.0507 - acc: 0.9849 - val_loss: 0.0263 - val_acc: 0.9940\n",
      "Epoch 4/15\n",
      "624/625 [============================>.] - ETA: 0s - loss: 0.0376 - acc: 0.9880Epoch 00004: val_loss improved from 0.02626 to 0.02119, saving model to xception-97.h5\n",
      "625/625 [==============================] - 427s 684ms/step - loss: 0.0375 - acc: 0.9880 - val_loss: 0.0212 - val_acc: 0.9944\n",
      "Epoch 5/15\n",
      "624/625 [============================>.] - ETA: 0s - loss: 0.0384 - acc: 0.9885Epoch 00005: val_loss did not improve\n",
      "625/625 [==============================] - 432s 691ms/step - loss: 0.0385 - acc: 0.9886 - val_loss: 0.0233 - val_acc: 0.9934\n",
      "Epoch 6/15\n",
      "624/625 [============================>.] - ETA: 0s - loss: 0.0311 - acc: 0.9906Epoch 00006: val_loss improved from 0.02119 to 0.01996, saving model to xception-97.h5\n",
      "625/625 [==============================] - 412s 659ms/step - loss: 0.0310 - acc: 0.9906 - val_loss: 0.0200 - val_acc: 0.9940\n",
      "Epoch 7/15\n",
      "624/625 [============================>.] - ETA: 0s - loss: 0.0296 - acc: 0.9908Epoch 00007: val_loss improved from 0.01996 to 0.01978, saving model to xception-97.h5\n",
      "625/625 [==============================] - 394s 630ms/step - loss: 0.0296 - acc: 0.9908 - val_loss: 0.0198 - val_acc: 0.9942\n",
      "Epoch 8/15\n",
      "624/625 [============================>.] - ETA: 0s - loss: 0.0278 - acc: 0.9921Epoch 00008: val_loss did not improve\n",
      "625/625 [==============================] - 394s 630ms/step - loss: 0.0278 - acc: 0.9921 - val_loss: 0.0217 - val_acc: 0.9938\n",
      "Epoch 9/15\n",
      "624/625 [============================>.] - ETA: 0s - loss: 0.0254 - acc: 0.9919Epoch 00009: val_loss did not improve\n",
      "625/625 [==============================] - 389s 622ms/step - loss: 0.0254 - acc: 0.9919 - val_loss: 0.0201 - val_acc: 0.9954\n",
      "Epoch 10/15\n",
      "624/625 [============================>.] - ETA: 0s - loss: 0.0229 - acc: 0.9924Epoch 00010: val_loss improved from 0.01978 to 0.01729, saving model to xception-97.h5\n",
      "625/625 [==============================] - 393s 628ms/step - loss: 0.0229 - acc: 0.9923 - val_loss: 0.0173 - val_acc: 0.9954\n",
      "Epoch 11/15\n",
      "624/625 [============================>.] - ETA: 0s - loss: 0.0208 - acc: 0.9940Epoch 00011: val_loss did not improve\n",
      "625/625 [==============================] - 390s 624ms/step - loss: 0.0207 - acc: 0.9940 - val_loss: 0.0246 - val_acc: 0.9940\n",
      "Epoch 12/15\n",
      "624/625 [============================>.] - ETA: 0s - loss: 0.0216 - acc: 0.9938Epoch 00012: val_loss did not improve\n",
      "625/625 [==============================] - 388s 621ms/step - loss: 0.0216 - acc: 0.9938 - val_loss: 0.0193 - val_acc: 0.9956\n",
      "Epoch 13/15\n",
      "624/625 [============================>.] - ETA: 0s - loss: 0.0199 - acc: 0.9944Epoch 00013: val_loss did not improve\n",
      "625/625 [==============================] - 388s 620ms/step - loss: 0.0199 - acc: 0.9944 - val_loss: 0.0213 - val_acc: 0.9946\n",
      "Epoch 14/15\n",
      "624/625 [============================>.] - ETA: 0s - loss: 0.0169 - acc: 0.9956Epoch 00014: val_loss did not improve\n",
      "625/625 [==============================] - 384s 614ms/step - loss: 0.0172 - acc: 0.9955 - val_loss: 0.0203 - val_acc: 0.9942\n",
      "Epoch 15/15\n",
      "624/625 [============================>.] - ETA: 0s - loss: 0.0161 - acc: 0.9952Epoch 00015: val_loss did not improve\n",
      "625/625 [==============================] - 380s 609ms/step - loss: 0.0161 - acc: 0.9952 - val_loss: 0.0187 - val_acc: 0.9952\n"
     ]
    }
   ],
   "source": [
    "#训练模型并保存在验证集上损失函数最小的权重\n",
    "filepath=\"xception-97.h5\"\n",
    "checkpoint = ModelCheckpoint(filepath, monitor='val_loss', verbose=1, save_best_only=True, mode='min',save_weights_only=True)\n",
    "callbacks_list = [checkpoint]\n",
    "\n",
    "record97 = model.fit_generator(\n",
    "        train_generator,\n",
    "        steps_per_epoch=625,\n",
    "        epochs=15,\n",
    "        validation_data=valid_generator,\n",
    "        validation_steps=150,\n",
    "        callbacks = callbacks_list)"
   ]
  },
  {
   "cell_type": "code",
   "execution_count": 39,
   "metadata": {},
   "outputs": [
    {
     "data": {
      "image/png": "[encoded data removed]",
      "text/plain": [
       "<Figure size 432x288 with 1 Axes>"
      ]
     },
     "metadata": {
      "needs_background": "light"
     },
     "output_type": "display_data"
    }
   ],
   "source": [
    "plt.plot(record97.history['val_loss'])\n",
    "plt.xlabel('time')\n",
    "plt.ylabel('val_loss')\n",
    "plt.show()"
   ]
  },
  {
   "cell_type": "code",
   "execution_count": 40,
   "metadata": {},
   "outputs": [
    {
     "name": "stderr",
     "output_type": "stream",
     "text": [
      "100%|██████████| 12500/12500 [00:52<00:00, 237.36it/s]\n"
     ]
    },
    {
     "name": "stdout",
     "output_type": "stream",
     "text": [
      "12500/12500 [==============================] - 148s 12ms/step\n"
     ]
    },
    {
     "name": "stderr",
     "output_type": "stream",
     "text": [
      "100%|██████████| 12500/12500 [00:00<00:00, 197905.02it/s]\n"
     ]
    }
   ],
   "source": [
    "predict_on_xception(12500, 299, 299, test_data_dir, model, \"xception-97.h5\", \"pred-xception-result97.csv\")"
   ]
  },
  {
   "cell_type": "markdown",
   "metadata": {},
   "source": [
    "将pred-xception-result97.csv提交到Kaggle中进行评分，Xception-97本次的得分为:0.03709。在Kaggle的排名中已经能够进入前10名了，因此这是一个较为成功的模型，而这也说明对Xception中不同层的权重进行针对特定目标的调整是有很显著的作用的。\n",
    "\n",
    "具体的得分情况可以在报告文档中进行查看。"
   ]
  },
  {
   "cell_type": "markdown",
   "metadata": {},
   "source": [
    "在完成了97层之后的调整之后，我们可以尝试继续探索一下不同程度地对权重进行调整可能造成的影响。因为Xception中的权重是由专业人士进行尝试与确定的，虽然对于不同的任务模型的效果可能会有一定的出入，但是其效用是在一定程度上经过更加严格的检验的。我们通过重新调整权重则从某种程度上是对这个模型功能完整性的一种破坏。如何在这种破坏和功能特化中找到效率的平衡点，这是通过微调提升模型能力需要考虑的一点。而由于时间有限，在这一个项目中我对107层之后的样本进行了参数调节层数优化的进一步探索。"
   ]
  },
  {
   "cell_type": "code",
   "execution_count": 41,
   "metadata": {},
   "outputs": [],
   "source": [
    "for layer in model.layers:\n",
    "    layer.trainable = False\n",
    "    \n",
    "for layer in model.layers[107:]:\n",
    "    layer.trainable = True\n",
    "    \n",
    "model.load_weights('xception-best_weight_freeze.h5')\n",
    "model.compile(optimizer='adadelta',\n",
    "              loss='binary_crossentropy',\n",
    "              metrics=['accuracy'])"
   ]
  },
  {
   "cell_type": "code",
   "execution_count": 43,
   "metadata": {},
   "outputs": [
    {
     "name": "stdout",
     "output_type": "stream",
     "text": [
      "Epoch 1/15\n",
      "624/625 [============================>.] - ETA: 0s - loss: 0.0988 - acc: 0.9669Epoch 00001: val_loss improved from inf to 0.02777, saving model to xception-107.h5\n",
      "625/625 [==============================] - 355s 568ms/step - loss: 0.0988 - acc: 0.9669 - val_loss: 0.0278 - val_acc: 0.9932\n",
      "Epoch 2/15\n",
      "624/625 [============================>.] - ETA: 0s - loss: 0.0645 - acc: 0.9792Epoch 00002: val_loss improved from 0.02777 to 0.02568, saving model to xception-107.h5\n",
      "625/625 [==============================] - 349s 559ms/step - loss: 0.0644 - acc: 0.9792 - val_loss: 0.0257 - val_acc: 0.9928\n",
      "Epoch 3/15\n",
      "624/625 [============================>.] - ETA: 0s - loss: 0.0540 - acc: 0.9838Epoch 00003: val_loss did not improve\n",
      "625/625 [==============================] - 344s 550ms/step - loss: 0.0541 - acc: 0.9838 - val_loss: 0.0305 - val_acc: 0.9912\n",
      "Epoch 4/15\n",
      "624/625 [============================>.] - ETA: 0s - loss: 0.0475 - acc: 0.9849Epoch 00004: val_loss improved from 0.02568 to 0.02303, saving model to xception-107.h5\n",
      "625/625 [==============================] - 354s 566ms/step - loss: 0.0474 - acc: 0.9849 - val_loss: 0.0230 - val_acc: 0.9940\n",
      "Epoch 5/15\n",
      "624/625 [============================>.] - ETA: 0s - loss: 0.0421 - acc: 0.9862Epoch 00005: val_loss improved from 0.02303 to 0.01812, saving model to xception-107.h5\n",
      "625/625 [==============================] - 388s 621ms/step - loss: 0.0421 - acc: 0.9863 - val_loss: 0.0181 - val_acc: 0.9954\n",
      "Epoch 6/15\n",
      "624/625 [============================>.] - ETA: 0s - loss: 0.0354 - acc: 0.9885Epoch 00006: val_loss did not improve\n",
      "625/625 [==============================] - 389s 623ms/step - loss: 0.0354 - acc: 0.9886 - val_loss: 0.0193 - val_acc: 0.9946\n",
      "Epoch 7/15\n",
      "624/625 [============================>.] - ETA: 0s - loss: 0.0319 - acc: 0.9903Epoch 00007: val_loss did not improve\n",
      "625/625 [==============================] - 362s 579ms/step - loss: 0.0321 - acc: 0.9903 - val_loss: 0.0197 - val_acc: 0.9944\n",
      "Epoch 8/15\n",
      "624/625 [============================>.] - ETA: 0s - loss: 0.0333 - acc: 0.9905Epoch 00008: val_loss did not improve\n",
      "625/625 [==============================] - 360s 577ms/step - loss: 0.0332 - acc: 0.9905 - val_loss: 0.0200 - val_acc: 0.9950\n",
      "Epoch 9/15\n",
      "624/625 [============================>.] - ETA: 0s - loss: 0.0283 - acc: 0.9905Epoch 00009: val_loss improved from 0.01812 to 0.01811, saving model to xception-107.h5\n",
      "625/625 [==============================] - 356s 569ms/step - loss: 0.0283 - acc: 0.9905 - val_loss: 0.0181 - val_acc: 0.9948\n",
      "Epoch 10/15\n",
      "624/625 [============================>.] - ETA: 0s - loss: 0.0252 - acc: 0.9931Epoch 00010: val_loss did not improve\n",
      "625/625 [==============================] - 382s 612ms/step - loss: 0.0253 - acc: 0.9931 - val_loss: 0.0186 - val_acc: 0.9954\n",
      "Epoch 11/15\n",
      "624/625 [============================>.] - ETA: 0s - loss: 0.0252 - acc: 0.9922Epoch 00011: val_loss did not improve\n",
      "625/625 [==============================] - 392s 627ms/step - loss: 0.0253 - acc: 0.9922 - val_loss: 0.0222 - val_acc: 0.9936\n",
      "Epoch 12/15\n",
      "624/625 [============================>.] - ETA: 0s - loss: 0.0250 - acc: 0.9921Epoch 00012: val_loss did not improve\n",
      "625/625 [==============================] - 368s 589ms/step - loss: 0.0250 - acc: 0.9921 - val_loss: 0.0207 - val_acc: 0.9944\n",
      "Epoch 13/15\n",
      "624/625 [============================>.] - ETA: 0s - loss: 0.0236 - acc: 0.9936Epoch 00013: val_loss did not improve\n",
      "625/625 [==============================] - 362s 579ms/step - loss: 0.0235 - acc: 0.9937 - val_loss: 0.0209 - val_acc: 0.9944\n",
      "Epoch 14/15\n",
      "624/625 [============================>.] - ETA: 0s - loss: 0.0213 - acc: 0.9936Epoch 00014: val_loss did not improve\n",
      "625/625 [==============================] - 384s 615ms/step - loss: 0.0212 - acc: 0.9937 - val_loss: 0.0248 - val_acc: 0.9942\n",
      "Epoch 15/15\n",
      "624/625 [============================>.] - ETA: 0s - loss: 0.0201 - acc: 0.9944Epoch 00015: val_loss did not improve\n",
      "625/625 [==============================] - 367s 588ms/step - loss: 0.0201 - acc: 0.9945 - val_loss: 0.0267 - val_acc: 0.9934\n"
     ]
    }
   ],
   "source": [
    "filepath=\"xception-107.h5\"\n",
    "checkpoint = ModelCheckpoint(filepath, monitor='val_loss', verbose=1, save_best_only=True, mode='min',save_weights_only=True)\n",
    "callbacks_list = [checkpoint]\n",
    "\n",
    "record107 = model.fit_generator(\n",
    "        train_generator,\n",
    "        steps_per_epoch=625,\n",
    "        epochs=15,\n",
    "        validation_data=valid_generator,\n",
    "        validation_steps=150,\n",
    "        callbacks = callbacks_list)"
   ]
  },
  {
   "cell_type": "code",
   "execution_count": 44,
   "metadata": {},
   "outputs": [
    {
     "data": {
      "image/png": "[encoded data removed]",
      "text/plain": [
       "<Figure size 432x288 with 1 Axes>"
      ]
     },
     "metadata": {
      "needs_background": "light"
     },
     "output_type": "display_data"
    }
   ],
   "source": [
    "plt.plot(record107.history['val_loss'])\n",
    "plt.xlabel('time')\n",
    "plt.ylabel('val_loss')\n",
    "plt.show()"
   ]
  },
  {
   "cell_type": "code",
   "execution_count": 45,
   "metadata": {},
   "outputs": [
    {
     "name": "stderr",
     "output_type": "stream",
     "text": [
      "100%|██████████| 12500/12500 [00:55<00:00, 225.51it/s]\n"
     ]
    },
    {
     "name": "stdout",
     "output_type": "stream",
     "text": [
      "12500/12500 [==============================] - 158s 13ms/step\n"
     ]
    },
    {
     "name": "stderr",
     "output_type": "stream",
     "text": [
      "100%|██████████| 12500/12500 [00:00<00:00, 191599.82it/s]\n"
     ]
    }
   ],
   "source": [
    "predict_on_xception(12500, 299, 299, test_data_dir, model, \"xception-107.h5\", \"pred-xception-fine_result107.csv\")"
   ]
  },
  {
   "cell_type": "markdown",
   "metadata": {},
   "source": [
    "将pred-xception-result107.csv提交到Kaggle中进行评分，Xception-107本次的得分为:0.04183。结果并没有比之前的Xception-97更优而且训练效果并不理想，因此可以认为在目前探索的两个模型中Xception-97是我们最终使用的模型。\n",
    "\n",
    "具体的得分情况可以在报告文档中进行查看。\n"
   ]
  },
  {
   "cell_type": "markdown",
   "metadata": {},
   "source": [
    "## 结果\n",
    "经过了Dropout的调整以及对Xception中不同层的参数进行训练和调整之后，得到的最佳模型是Xception-97，它在Kaggle中的得分是0.03709，排名为第7名。因此，我们可以认为这个模型的结果已经初步符合我们对于项目结果的预期。"
   ]
  }
 ],
 "metadata": {
  "anaconda-cloud": {},
  "kernelspec": {
   "display_name": "Python 3",
   "language": "python",
   "name": "python3"
  },
  "language_info": {
   "codemirror_mode": {
    "name": "ipython",
    "version": 3
   },
   "file_extension": ".py",
   "mimetype": "text/x-python",
   "name": "python",
   "nbconvert_exporter": "python",
   "pygments_lexer": "ipython3",
   "version": "3.7.3"
  }
 },
 "nbformat": 4,
 "nbformat_minor": 2
}
